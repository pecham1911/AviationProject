{
 "cells": [
  {
   "cell_type": "markdown",
   "metadata": {},
   "source": [
    "# Exploratory Notebook for Aviation Project, Group 4\n",
    "\n"
   ]
  },
  {
   "cell_type": "code",
   "execution_count": null,
   "metadata": {},
   "outputs": [],
   "source": [
    "#Bring in packages for analysis.\n",
    "import pandas as pd\n",
    "import numpy as np\n",
    "from matplotlib import pyplot as plt\n",
    "import seaborn as sns"
   ]
  },
  {
   "cell_type": "code",
   "execution_count": null,
   "metadata": {},
   "outputs": [],
   "source": [
    "# Importing the Avaiation Data set \n",
    "df = pd.read_csv(\"data/AviationData.csv\", encoding='ISO-8859-1', low_memory=False)"
   ]
  },
  {
   "cell_type": "markdown",
   "metadata": {},
   "source": [
    "### Initial review of the data"
   ]
  },
  {
   "cell_type": "code",
   "execution_count": null,
   "metadata": {
    "scrolled": true
   },
   "outputs": [],
   "source": [
    "df.head()"
   ]
  },
  {
   "cell_type": "code",
   "execution_count": null,
   "metadata": {
    "scrolled": true
   },
   "outputs": [],
   "source": [
    "df.tail()"
   ]
  },
  {
   "cell_type": "code",
   "execution_count": null,
   "metadata": {
    "scrolled": true
   },
   "outputs": [],
   "source": [
    "df.info()"
   ]
  },
  {
   "cell_type": "code",
   "execution_count": null,
   "metadata": {},
   "outputs": [],
   "source": [
    "df.isna().sum()"
   ]
  },
  {
   "cell_type": "code",
   "execution_count": null,
   "metadata": {},
   "outputs": [],
   "source": [
    "df.isna().sum()/len(df)*100"
   ]
  },
  {
   "cell_type": "markdown",
   "metadata": {},
   "source": [
    "### Data cleaning and manipulation: creation of new columns, filtering, and dropping of columns and rows"
   ]
  },
  {
   "cell_type": "code",
   "execution_count": null,
   "metadata": {},
   "outputs": [],
   "source": [
    "# Here we are creating a new column for the event year pulling the year from the even date column\n",
    "\n",
    "df['Event.Year'] = pd.DatetimeIndex(df['Event.Date']).year"
   ]
  },
  {
   "cell_type": "code",
   "execution_count": null,
   "metadata": {
    "scrolled": true
   },
   "outputs": [],
   "source": [
    "# Filtering the events to only occur after the year of 2000, you can see below that our data set has decreased from 88889 down to 41214\n",
    "\n",
    "df = df[df['Event.Year'] >= 2000]"
   ]
  },
  {
   "cell_type": "code",
   "execution_count": null,
   "metadata": {},
   "outputs": [],
   "source": [
    "# Now that the events have been filtered out to only show the data after 2000 we are dropping any columns that are not needed\n",
    "\n",
    "df = df.drop(columns=['Latitude', 'Longitude', 'Report.Status', 'Airport.Code', \n",
    "                'Airport.Name', 'Registration.Number', 'Number.of.Engines', 'Engine.Type',\n",
    "                'FAR.Description', 'Schedule', 'Air.carrier', 'Broad.phase.of.flight',\n",
    "                'Report.Status', 'Publication.Date', 'Location']) "
   ]
  },
  {
   "cell_type": "code",
   "execution_count": null,
   "metadata": {},
   "outputs": [],
   "source": [
    "# Removing any aircrafts that were amateur built\n",
    "df.drop(df.index[df[\"Amateur.Built\"] == \"Yes\"], inplace=True) \n",
    "\n",
    "# Removing any countries outside of the United States because we only want to look at domestic flights\n",
    "df.drop(df.index[df[\"Country\"] != \"United States\"], inplace=True)\n",
    "\n",
    "# Removing any aircrafts that are not categorized under airplane\n",
    "df.drop(df.index[df[\"Aircraft.Category\"] != \"Airplane\"], inplace=True)\n",
    "\n",
    "# Removing any aircrafts that are missing either the make or the model\n",
    "df.drop(df.index[df['Make'].isna()], inplace = True)\n",
    "df.drop(df.index[df['Model'].isna()], inplace =True)"
   ]
  },
  {
   "cell_type": "code",
   "execution_count": null,
   "metadata": {
    "scrolled": true
   },
   "outputs": [],
   "source": [
    "df['Make'].value_counts()"
   ]
  },
  {
   "cell_type": "code",
   "execution_count": null,
   "metadata": {},
   "outputs": [],
   "source": [
    "######################### which of these are we using? .capitalize() or .upper()###############################"
   ]
  },
  {
   "cell_type": "code",
   "execution_count": null,
   "metadata": {},
   "outputs": [],
   "source": [
    "# Use the same letter casing to combine Make entries\n",
    "df['Make'] = df['Make'].astype(str)\n",
    "df['Make'] = df['Make'].str.capitalize()"
   ]
  },
  {
   "cell_type": "code",
   "execution_count": null,
   "metadata": {},
   "outputs": [],
   "source": [
    "df['Model'] = df['Model'].astype(str)\n",
    "df['Model'] = df['Model'].str.upper()"
   ]
  },
  {
   "cell_type": "code",
   "execution_count": null,
   "metadata": {},
   "outputs": [],
   "source": [
    "#Manual data cleaning to combine airplane makes with different spellings.\n",
    "df[\"Make\"] = df[\"Make\"].replace (\"Air tractor inc\", \"Air tractor\")\n",
    "df[\"Make\"] = df[\"Make\"].replace (\"Air tractor inc.\", \"Air tractor\")\n",
    "df[\"Make\"] = df[\"Make\"].replace (\"Airbus industrie\", \"Airbus\")\n",
    "df[\"Make\"] = df[\"Make\"].replace (\"American aviation\", \"American\")\n",
    "df[\"Make\"] = df[\"Make\"].replace (\"American aviation corp. (aac)\", \"American\")\n",
    "df[\"Make\"] = df[\"Make\"].replace (\"American champion (acac)\", \"American champion\")\n",
    "df[\"Make\"] = df[\"Make\"].replace (\"American champion aircraft)\", \"American champion\")\n",
    "df[\"Make\"] = df[\"Make\"].replace (\"American legend aircraft co\", \"American legend\")\n",
    "df[\"Make\"] = df[\"Make\"].replace (\"Aviat aircraft inc\", \"Aviat\")\n",
    "df[\"Make\"] = df[\"Make\"].replace (\"Aviat inc\", \"Aviat\")\n",
    "df[\"Make\"] = df[\"Make\"].replace (\"Ayres corporation\", \"Ayres\")\n",
    "df[\"Make\"] = df[\"Make\"].replace (\"Boeing stearman\", \"Boeing\")\n",
    "df[\"Make\"] = df[\"Make\"].replace (\"Boeing company\", \"Boeing\")\n",
    "df[\"Make\"] = df[\"Make\"].replace (\"The boeing company\", \"Boeing\")\n",
    "df[\"Make\"] = df[\"Make\"].replace (\"Bombardier, inc.\", \"Bombardier\")\n",
    "df[\"Make\"] = df[\"Make\"].replace (\"Bombardier inc\", \"Bombardier\")\n",
    "df[\"Make\"] = df[\"Make\"].replace (\"Britten-norman\", \"Britten norman\")\n",
    "df[\"Make\"] = df[\"Make\"].replace (\"Cessna aircraft\", \"Cessna\")\n",
    "df[\"Make\"] = df[\"Make\"].replace (\"Cessna aircraft co\", \"Cessna\")\n",
    "df[\"Make\"] = df[\"Make\"].replace (\"Cessna aircraft company\", \"Cessna\")\n",
    "df[\"Make\"] = df[\"Make\"].replace (\"Christen industries inc\", \"Christen industries\")\n",
    "df[\"Make\"] = df[\"Make\"].replace (\"Cirrus design corp.\", \"Cirrus\")\n",
    "df[\"Make\"] = df[\"Make\"].replace (\"Cirrus design corp\", \"Cirrus\")\n",
    "df[\"Make\"] = df[\"Make\"].replace (\"Cirrus design\", \"Cirrus\")\n",
    "df[\"Make\"] = df[\"Make\"].replace (\"Cirrus design corporation\", \"Cirrus\")\n",
    "df[\"Make\"] = df[\"Make\"].replace (\"Cub crafters\", \"Cubcrafters\")\n",
    "df[\"Make\"] = df[\"Make\"].replace (\"Cub crafters inc\", \"Cubcrafters\")\n",
    "df[\"Make\"] = df[\"Make\"].replace (\"Cubcrafters inc\", \"Cubcrafters\")\n",
    "df[\"Make\"] = df[\"Make\"].replace (\"Dassault-breguet\", \"Dassault\")\n",
    "df[\"Make\"] = df[\"Make\"].replace (\"De havilland\", \"Dehavilland\")\n",
    "df[\"Make\"] = df[\"Make\"].replace (\"Diamond aircraft ind gmbh\", \"Diamond\")\n",
    "df[\"Make\"] = df[\"Make\"].replace (\"Diamond aircraft ind inc\", \"Diamond\")\n",
    "df[\"Make\"] = df[\"Make\"].replace (\"Diamond aircraft industries\", \"Diamond\")\n",
    "df[\"Make\"] = df[\"Make\"].replace (\"Embraer-empresa brasileira de\", \"Embraer\")\n",
    "df[\"Make\"] = df[\"Make\"].replace (\"Embraer s a\", \"Embraer\")\n",
    "df[\"Make\"] = df[\"Make\"].replace (\"Ercoupe (eng & research corp.)\", \"Ercoupe\")\n",
    "df[\"Make\"] = df[\"Make\"].replace (\"Flight design gmbh\", \"Flight design\")\n",
    "df[\"Make\"] = df[\"Make\"].replace (\"Gates learjet corp.\", \"Gates lear jet\")\n",
    "df[\"Make\"] = df[\"Make\"].replace (\"Grumman american\", \"Grumman\")\n",
    "df[\"Make\"] = df[\"Make\"].replace (\"Grumman acft eng cor-schweizer\", \"Grumman\")\n",
    "df[\"Make\"] = df[\"Make\"].replace (\"Grumman american avn. corp.\", \"Grumman\")\n",
    "df[\"Make\"] = df[\"Make\"].replace (\"Grumman-schweizer\", \"Grumman\")\n",
    "df[\"Make\"] = df[\"Make\"].replace (\"Gulfstream-schweizer a/c corp\", \"Gulfstream\")\n",
    "df[\"Make\"] = df[\"Make\"].replace (\"Gulfstream-schweizer\", \"Gulfstream\")\n",
    "df[\"Make\"] = df[\"Make\"].replace (\"Gulfstream american corp\", \"Gulfstream\")\n",
    "df[\"Make\"] = df[\"Make\"].replace (\"Gulfstream aerospace\", \"Gulfstream\")\n",
    "df[\"Make\"] = df[\"Make\"].replace (\"Hawker beechcraft\", \"Hawker\")\n",
    "df[\"Make\"] = df[\"Make\"].replace (\"Hawker beechcraft corp\", \"Hawker\")\n",
    "df[\"Make\"] = df[\"Make\"].replace (\"Hawker beechcraft corp.\", \"Hawker\")\n",
    "df[\"Make\"] = df[\"Make\"].replace (\"Hawker beechcraft corporation\", \"Hawker\")\n",
    "df[\"Make\"] = df[\"Make\"].replace (\"Hawker siddeley\", \"Hawker\")\n",
    "df[\"Make\"] = df[\"Make\"].replace (\"Jabiru usa sport aircraft llc\", \"Jabiru\")\n",
    "df[\"Make\"] = df[\"Make\"].replace (\"Lancair company\", \"Lancair\")\n",
    "df[\"Make\"] = df[\"Make\"].replace (\"Learjet inc\", \"Learjet\")\n",
    "df[\"Make\"] = df[\"Make\"].replace (\"Liberty aerospace incorporated\", \"Liberty aerospace inc.\")\n",
    "df[\"Make\"] = df[\"Make\"].replace (\"Mcdonnell douglas aircraft co\", \"Mcdonnell douglas\")\n",
    "df[\"Make\"] = df[\"Make\"].replace (\"Douglas\", \"Mcdonnell douglas\")\n",
    "df[\"Make\"] = df[\"Make\"].replace (\"Lancair company\", \"Lancair\")\n",
    "df[\"Make\"] = df[\"Make\"].replace (\"Mooney aircraft corp.\", \"Mooney\")\n",
    "df[\"Make\"] = df[\"Make\"].replace (\"Mooney airplane co inc\", \"Mooney\")\n",
    "df[\"Make\"] = df[\"Make\"].replace (\"Nanchang china\", \"Nanchang\")\n",
    "df[\"Make\"] = df[\"Make\"].replace (\"Pilatus aircraft ltd\", \"Pilatus\")\n",
    "df[\"Make\"] = df[\"Make\"].replace (\"Piper aircraft inc\", \"Piper\")\n",
    "df[\"Make\"] = df[\"Make\"].replace (\"Piper aircraft corporation\", \"Piper\")\n",
    "df[\"Make\"] = df[\"Make\"].replace (\"Piper aircraft\", \"Piper\")\n",
    "df[\"Make\"] = df[\"Make\"].replace (\"Piper/cub crafters\", \"Piper\")\n",
    "df[\"Make\"] = df[\"Make\"].replace (\"Quest aircraft company llc\", \"Quest\")\n",
    "df[\"Make\"] = df[\"Make\"].replace (\"Raytheon aircraft company\", \"Raytheon\")\n",
    "df[\"Make\"] = df[\"Make\"].replace (\"Raytheon corporate jets\", \"Raytheon\")\n",
    "df[\"Make\"] = df[\"Make\"].replace (\"Remos acft gmbh flugzeugbau\", \"Remos aircraft gmbh\")\n",
    "df[\"Make\"] = df[\"Make\"].replace (\"Rockwell international\", \"Rockwell\")\n",
    "df[\"Make\"] = df[\"Make\"].replace (\"Ryan aeronautical\", \"Ryan\")\n",
    "df[\"Make\"] = df[\"Make\"].replace (\"Schweizer aircraft corp\", \"Schweizer\")\n",
    "df[\"Make\"] = df[\"Make\"].replace (\"Stearman aircraft\", \"Stearman\")\n",
    "df[\"Make\"] = df[\"Make\"].replace (\"Taylorcraft aviation corp\", \"Taylorcraft\")\n",
    "df[\"Make\"] = df[\"Make\"].replace (\"Thrush aircraft inc\", \"Thrush\")\n",
    "df[\"Make\"] = df[\"Make\"].replace (\"Vans aircraft inc\", \"Vans\")\n",
    "df[\"Make\"] = df[\"Make\"].replace (\"Waco classic aircraft\", \"Waco\")\n",
    "df[\"Make\"] = df[\"Make\"].replace (\"Weatherly aviation co inc\", \"Weatherly\")"
   ]
  },
  {
   "cell_type": "code",
   "execution_count": null,
   "metadata": {
    "scrolled": true
   },
   "outputs": [],
   "source": [
    "df['Make'].value_counts()"
   ]
  },
  {
   "cell_type": "code",
   "execution_count": null,
   "metadata": {},
   "outputs": [],
   "source": [
    "#Creation of a combined make and model column\n",
    "df['Make.Model'] = df['Make']+ ' ' + df['Model']"
   ]
  },
  {
   "cell_type": "code",
   "execution_count": null,
   "metadata": {
    "scrolled": true
   },
   "outputs": [],
   "source": [
    "# Review the top 50 makes and models\n",
    "df['Make.Model'].value_counts()[:50]"
   ]
  },
  {
   "cell_type": "code",
   "execution_count": null,
   "metadata": {},
   "outputs": [],
   "source": [
    "df['Total.Fatal.Injuries'].value_counts()"
   ]
  },
  {
   "cell_type": "code",
   "execution_count": null,
   "metadata": {},
   "outputs": [],
   "source": [
    "# This creates a new column with \"yes\" for if the make is boeing or airbus and \"no\" for everything else.\n",
    "df[\"Commercial\"] = \"No\"\n",
    "df.loc[df[\"Make\"].isin([\"Boeing\", \"Airbus\"]), \"Commercial\"] = \"Yes\""
   ]
  },
  {
   "cell_type": "code",
   "execution_count": null,
   "metadata": {},
   "outputs": [],
   "source": [
    "#df[\"Fatal\"] = pd.notna(df[\"Total.Fatal.Injuries\"]).astype(int)\n",
    "df[\"Fatal\"] = np.where((df[\"Total.Fatal.Injuries\"].isna()) | (df[\"Total.Fatal.Injuries\"] == 0), 0, 1)"
   ]
  },
  {
   "cell_type": "code",
   "execution_count": null,
   "metadata": {},
   "outputs": [],
   "source": [
    "df['Fatal'].value_counts()"
   ]
  },
  {
   "cell_type": "code",
   "execution_count": null,
   "metadata": {
    "scrolled": true
   },
   "outputs": [],
   "source": [
    "df.head()"
   ]
  },
  {
   "cell_type": "code",
   "execution_count": null,
   "metadata": {},
   "outputs": [],
   "source": [
    "df['Make'].value_counts()[:40]"
   ]
  },
  {
   "cell_type": "code",
   "execution_count": null,
   "metadata": {},
   "outputs": [],
   "source": [
    "Boeing_flights = df.loc[df[\"Make\"] == \"Boeing\"].index\n",
    "print(Boeing_flights)\n"
   ]
  },
  {
   "cell_type": "code",
   "execution_count": null,
   "metadata": {},
   "outputs": [],
   "source": [
    "df['Commercial'].value_counts()"
   ]
  },
  {
   "cell_type": "code",
   "execution_count": null,
   "metadata": {},
   "outputs": [],
   "source": [
    "#This is grouping our make.model column with the total.fatal.injuries column. \n",
    "#It is also declaring a variable to be equal to the make.models with the top 5 most fatalities\n",
    "MakeModel_fatalities = df.groupby('Make.Model')['Total.Fatal.Injuries'].sum()\n",
    "\n",
    "top_5_MakeModel_by_fatalities = MakeModel_fatalities.sort_values(ascending=False).head(5)\n",
    "\n",
    "print(top_5_MakeModel_by_fatalities)"
   ]
  },
  {
   "cell_type": "code",
   "execution_count": null,
   "metadata": {},
   "outputs": [],
   "source": [
    "#This is declaring variables which will be used for the bar graph axis below after grouping them above. \n",
    "make_model_names = top_5_MakeModel_by_fatalities.index\n",
    "fatal_injuries = top_5_MakeModel_by_fatalities.values"
   ]
  },
  {
   "cell_type": "code",
   "execution_count": null,
   "metadata": {},
   "outputs": [],
   "source": [
    "#Bar Chart Showing the Top 5 Make.Models by total Fatalities (All are commercial)\n",
    "plt.figure(figsize=(12, 6))\n",
    "plt.bar(make_model_names, fatal_injuries, color='skyblue', edgecolor='black', alpha=0.7)\n",
    "plt.xlabel('Make and Model')\n",
    "plt.ylabel('Total Fatal Injuries')\n",
    "plt.title('Top 5 Aircraft Makes and Models by Total Fatal Injuries')\n",
    "plt.xticks(rotation=0, ha='center');"
   ]
  },
  {
   "cell_type": "code",
   "execution_count": null,
   "metadata": {},
   "outputs": [],
   "source": [
    "Commercial_Flights = df[df['Commercial'] == 'Yes']\n",
    "Totaled_Commercial_Fatalities_by_Make = Commercial_Flights.groupby('Make')['Fatal'].sum()\n",
    "Totaled_Commercial_Fatalities_by_Make.tail(5)\n",
    "#This groups the sum of Fatal values equal to 1 based on the Make with a Commercial value of Yes "
   ]
  },
  {
   "cell_type": "code",
   "execution_count": null,
   "metadata": {},
   "outputs": [],
   "source": [
    "Boeing_Occurances = 408\n",
    "Boeing_Fatality_Occurance = 14\n",
    "Airbus_Occurances = 109\n",
    "Airbus_Fatality_Occurances = 1\n",
    "\n",
    "Boeing_Average_Fatality_Occurance = Boeing_Fatality_Occurance/Boeing_Occurances\n",
    "Airbus_Average_Fatality_Occurance = Airbus_Fatality_Occurances/Airbus_Occurances\n",
    "\n",
    "print(Boeing_Average_Fatality_Occurance)\n",
    "print(Airbus_Average_Fatality_Occurance)"
   ]
  },
  {
   "cell_type": "code",
   "execution_count": null,
   "metadata": {},
   "outputs": [],
   "source": [
    "#this is William's original cell\n",
    "Boeing_Occurances = 1215\n",
    "Boeing_Fatality_Occurance = 108\n",
    "Airbus_Occurances = 244\n",
    "Airbus_Fatality_Occurances = 22\n",
    "\n",
    "Boeing_Average_Fatality_Occurance = Boeing_Fatality_Occurance/Boeing_Occurances\n",
    "Airbus_Average_Fatality_Occurance = Airbus_Fatality_Occurances/Airbus_Occurances\n",
    "\n",
    "print(Boeing_Average_Fatality_Occurance)\n",
    "print(Airbus_Average_Fatality_Occurance)\n",
    "\n",
    "#we can see here that 8.8% of the time Boeing Accidents will have Fatalities\n",
    "#we can see here that 9% of the time Airbus will have Fatalities"
   ]
  },
  {
   "cell_type": "code",
   "execution_count": null,
   "metadata": {},
   "outputs": [],
   "source": [
    "#Hard coding Airbus vs Boeing for the visual\n",
    "makes = [\"Airbus\", \"Boeing\"]\n",
    "totaled_fatalities_occurence = [1, 14]\n",
    "\n",
    "plt.figure(figsize=(8, 6))\n",
    "plt.bar(makes, totaled_fatalities_occurence, color=[\"skyblue\", \"salmon\"], edgecolor='black')\n",
    "plt.xlabel(\"Airplane Makes\", fontsize=14)\n",
    "plt.ylabel(\"Total Fatalities\", fontsize=14)\n",
    "plt.title(\"Total Fatalities for Commercial Flights\", fontsize=16)\n",
    "plt.ylim(0, 20)\n",
    "plt.yticks(range(0, 20, 2));"
   ]
  },
  {
   "cell_type": "code",
   "execution_count": null,
   "metadata": {},
   "outputs": [],
   "source": [
    "# We can see above that boeing has a lot more occurances of fatal accidents than Airbus. \n",
    "# But what is important is comparing the occurances of fatal accidents by the sample size. \n",
    "makes = [\"Airbus\", \"Boeing\"]\n",
    "fatalities_occurance_averages = [Airbus_Average_Fatality_Occurance*100, Boeing_Average_Fatality_Occurance*100]\n",
    "\n",
    "plt.figure(figsize=(10, 10))\n",
    "plt.bar(makes, fatalities_occurance_averages, color=[\"skyblue\", \"salmon\"], edgecolor='black')\n",
    "plt.xlabel(\"Airplane Makes\", fontsize=14)\n",
    "plt.ylabel(\"Percent Fatalities\", fontsize=14)\n",
    "plt.title(\"Percent of Commercial Flight Accidents Resulting in at least one Fatality\", fontsize=16)\n",
    "plt.ylim(0, 5)\n",
    "plt.yticks(range(0, 5, 1))\n",
    "plt.grid(axis='y', linestyle='--');"
   ]
  },
  {
   "cell_type": "code",
   "execution_count": null,
   "metadata": {},
   "outputs": [],
   "source": [
    "#It is difficult to see, but Airbus at 9% and Boeing is at 8.8%  \n",
    "#Therefore we can recommend Boeing as the Safest Commercial Maker adjusted for the limitations in the dataset."
   ]
  },
  {
   "cell_type": "code",
   "execution_count": null,
   "metadata": {},
   "outputs": [],
   "source": [
    "Private_Flights_Minor_Damage = df[(df['Commercial'] == 'No') & (df['Aircraft.damage'] == 'Minor')]\n",
    "Private_Flights_Minor_Damage_MostCommon = Private_Flights_Minor_Damage['Make'].value_counts().nlargest(20)\n",
    "#This is giving us the top 20 most commonly occuring Makes by Minor Damage so we can get the average. "
   ]
  },
  {
   "cell_type": "code",
   "execution_count": null,
   "metadata": {},
   "outputs": [],
   "source": [
    "Private_Flights_Minor_Damage_MostCommon\n",
    "#As we can see below Cessna has 59 occurences, Piper has 27 occurences, Bombardier has 21 occurences"
   ]
  },
  {
   "cell_type": "code",
   "execution_count": null,
   "metadata": {},
   "outputs": [],
   "source": [
    "#Cessna occurs 7088 \n",
    "#Piper occurs 3950 \n",
    "#Bombardier occurs 123\n",
    "#We can find average occurance of minor damages by accidents\n",
    "Cessna = (59/6384) * 100\n",
    "Piper = (27/3614) * 100\n",
    "Bombardier = (21/94) * 100\n",
    "\n",
    "\n",
    "print(Cessna)\n",
    "print(Piper)\n",
    "print(Bombardier)"
   ]
  },
  {
   "cell_type": "code",
   "execution_count": null,
   "metadata": {},
   "outputs": [],
   "source": [
    "Private_Flights_Destroyed_Damage = df[(df['Commercial'] == 'No') & (df['Aircraft.damage'] == 'Destroyed')]\n",
    "Private_Flights_Destroyed_MostCommon = Private_Flights_Destroyed_Damage['Make'].value_counts().nlargest(40)"
   ]
  },
  {
   "cell_type": "code",
   "execution_count": null,
   "metadata": {},
   "outputs": [],
   "source": [
    "df[\"Aircraft.damage\"].value_counts()"
   ]
  },
  {
   "cell_type": "code",
   "execution_count": null,
   "metadata": {},
   "outputs": [],
   "source": [
    "Private_Flights_Destroyed_MostCommon"
   ]
  },
  {
   "cell_type": "code",
   "execution_count": null,
   "metadata": {},
   "outputs": [],
   "source": [
    "#This is going to look up Bombardier directly\n",
    "Bombardier_Destroyed = df[(df['Make'] == 'Bombardier') & (df['Aircraft.damage'] == 'Destroyed') & (df['Commercial'] == 'No')]\n",
    "Total_Bomb_Destroyed = len(Bombardier_Destroyed)\n",
    "Total_Bomb_Destroyed"
   ]
  },
  {
   "cell_type": "code",
   "execution_count": null,
   "metadata": {},
   "outputs": [],
   "source": [
    "#Since Embraer and Mcdonnel have less than 200 entries in the data set lets only using Cessna, Piper, and Beech\n",
    "makes = [\"Cessna\", \"Piper\", \"Bombardier\"]\n",
    "minor_dmg_occurence_averages = [Cessna, Piper, Bombardier]\n",
    "\n",
    "plt.figure(figsize=(10, 10))\n",
    "plt.bar(makes, minor_dmg_occurence_averages, color=[\"lightblue\", \"blue\", \"purple\"], edgecolor='black')\n",
    "plt.xlabel(\"Airplane Makes\", fontsize=14)\n",
    "plt.ylabel(\"Percent of Minor Damages\", fontsize=14)\n",
    "plt.title(\"Percent of Private Flight Accidents Resulting in Minor Damages\",fontsize=16)\n",
    "plt.ylim(0, 25)\n",
    "plt.yticks(range(0, 25, 2))\n",
    "plt.grid(axis='y', linestyle='--');"
   ]
  },
  {
   "cell_type": "code",
   "execution_count": null,
   "metadata": {},
   "outputs": [],
   "source": [
    "#now I need to calculate the averages of Destroyed data occurence\n",
    "Cessna_Destroyed = (401/6384)*100\n",
    "Piper_Destroyed = (297/3614)*100\n",
    "Bombardier_Destroyed = (2/94)*100\n",
    "\n",
    "print(Cessna_Destroyed)\n",
    "print(Piper_Destroyed)\n",
    "print(Bombardier_Destroyed)\n",
    "\n",
    "#I notice that Cessna has the lowest average for destroyed damage types and the second highest "
   ]
  },
  {
   "cell_type": "code",
   "execution_count": null,
   "metadata": {},
   "outputs": [],
   "source": [
    "makes = [\"Piper\", \"Cessna\", \"Bombardier\"]\n",
    "destroyed_dmg_occurence_averages = [Piper_Destroyed, Cessna_Destroyed, Bombardier_Destroyed]\n",
    "\n",
    "plt.figure(figsize=(10, 10))\n",
    "plt.bar(makes, destroyed_dmg_occurence_averages, color=[\"blue\", \"lightblue\", \"purple\"], edgecolor='black')\n",
    "plt.xlabel(\"Airplane Makes\", fontsize=14)\n",
    "plt.ylabel(\"Percent Destroyed\", fontsize=14)\n",
    "plt.title(\"Percent of Private Flight Accidents Resulting in Airplane Destruction\", fontsize=16)\n",
    "plt.ylim(0, 10)\n",
    "plt.yticks(range(0, 10, 1))\n",
    "plt.grid(axis='y', linestyle='--');"
   ]
  },
  {
   "cell_type": "code",
   "execution_count": null,
   "metadata": {},
   "outputs": [],
   "source": [
    "#Now we gotta compared the Avearges of Minor Damage and Destroyed for Commercial Flights\n",
    "Commercial_Flights_Minor_Damage = df[(df['Commercial'] == 'Yes') & (df['Aircraft.damage'] == 'Minor')]\n",
    "Commercial_Flights_Minor_Damage_Totaled = Commercial_Flights_Minor_Damage['Make'].value_counts().nlargest()\n",
    "Commercial_Flights_Minor_Damage_Totaled"
   ]
  },
  {
   "cell_type": "code",
   "execution_count": null,
   "metadata": {},
   "outputs": [],
   "source": [
    "#Boeing has 1215 occurences in the filtered data set and 39 of those had minor damages\n",
    "#Airbus has 244 occurences in the filtered data set and 6 of those had minor damages\n",
    "#Lets find the averages\n",
    "Boeing_Minor = (69/1215)*100\n",
    "Airbus_Minor = (33/244)*100\n",
    "\n",
    "print(Boeing_Minor)\n",
    "print(Airbus_Minor)"
   ]
  },
  {
   "cell_type": "code",
   "execution_count": null,
   "metadata": {},
   "outputs": [],
   "source": [
    "makes = [\"Airbus\", \"Boeing\"]\n",
    "Commercial_MinorDmg_occurance_averages = [Airbus_Minor, Boeing_Minor]\n",
    "plt.figure(figsize=(10, 10))\n",
    "plt.bar(makes, Commercial_MinorDmg_occurance_averages, color=[\"skyblue\", \"salmon\"], edgecolor='black')\n",
    "plt.xlabel(\"Airplane Makes\", fontsize=14)\n",
    "plt.ylabel(\"Percent of Minor Damages\", fontsize=14)\n",
    "plt.title(\"Percentage of Commercial Flights Resulting in Minor Damages\", fontsize=16)\n",
    "plt.ylim(0, 15)\n",
    "plt.yticks(range(0, 15, 1))\n",
    "plt.grid(axis='y', linestyle='--');"
   ]
  },
  {
   "cell_type": "code",
   "execution_count": null,
   "metadata": {},
   "outputs": [],
   "source": [
    "Commercial_Flights_Destroyed_Damage = df[(df['Commercial'] == 'Yes') & (df['Aircraft.damage'] == 'Destroyed')]\n",
    "Commercial_Flights_Destroyed_Damage_Totaled = Commercial_Flights_Destroyed_Damage['Make'].value_counts().nlargest()\n",
    "Commercial_Flights_Destroyed_Damage_Totaled"
   ]
  },
  {
   "cell_type": "code",
   "execution_count": null,
   "metadata": {},
   "outputs": [],
   "source": [
    "#As we can see airbus was only destroyed 1 time out of 244 while Boeing was destroyed 12 times out of 1215\n",
    "Boeing_Destroyed = (10/1215) *100\n",
    "Airbus_Destroyed = (1/244) *100\n",
    "\n",
    "print(Boeing_Destroyed)\n"
   ]
  },
  {
   "cell_type": "code",
   "execution_count": null,
   "metadata": {},
   "outputs": [],
   "source": [
    "\n",
    "makes = [\"Airbus\", \"Boeing\"]\n",
    "Commercial_DestroyedDmg_occurance_averages = [Airbus_Destroyed, Boeing_Destroyed]\n",
    "plt.figure(figsize=(10, 10))\n",
    "plt.bar(makes, Commercial_DestroyedDmg_occurance_averages, color=[\"skyblue\", \"salmon\"], edgecolor='black')\n",
    "plt.xlabel(\"Airplane Makes\", fontsize=14)\n",
    "plt.ylabel(\"Percent Destroyed\", fontsize=14)\n",
    "plt.title(\"Percentage of Commercial Flights Resulting in Total Destruction\", fontsize=16)\n",
    "plt.ylim(0, 2)\n",
    "plt.yticks(range(0, 2, 1))\n",
    "plt.grid(axis='y', linestyle='--');"
   ]
  },
  {
   "cell_type": "code",
   "execution_count": null,
   "metadata": {},
   "outputs": [],
   "source": [
    "#Since the averages are so small I think our graph should show the number of occurences: Boeing = 12 and Airbus = 1\n",
    "#The exporatory data can be left here with our description\n",
    "#In the explanatory presentation we can explain what the 12 and the 1 mean\n",
    "\n",
    "makes = [\"Airbus\", \"Boeing\"]\n",
    "Commercial_DestroyedDmg_occurance_averages = [1, 10]\n",
    "plt.figure(figsize=(10, 10))\n",
    "plt.bar(makes, Commercial_DestroyedDmg_occurance_averages, color=[\"skyblue\", \"salmon\"], edgecolor='black')\n",
    "plt.xlabel(\"Airplane Makes\", fontsize=14)\n",
    "plt.ylabel(\"Total Destroyed Damage Occurance\", fontsize=14)\n",
    "plt.title(\"Total Destroyed Damage Occurance for Commercial Flights\", fontsize=16)\n",
    "plt.ylim(0, 12)\n",
    "plt.yticks(range(0, 12, 1))\n",
    "plt.grid(axis='y', linestyle='--');"
   ]
  },
  {
   "cell_type": "code",
   "execution_count": null,
   "metadata": {},
   "outputs": [],
   "source": []
  },
  {
   "cell_type": "code",
   "execution_count": null,
   "metadata": {},
   "outputs": [],
   "source": []
  },
  {
   "cell_type": "code",
   "execution_count": null,
   "metadata": {},
   "outputs": [],
   "source": []
  },
  {
   "cell_type": "code",
   "execution_count": null,
   "metadata": {},
   "outputs": [],
   "source": []
  },
  {
   "cell_type": "code",
   "execution_count": null,
   "metadata": {},
   "outputs": [],
   "source": []
  }
 ],
 "metadata": {
  "kernelspec": {
   "display_name": "Python (learn-env)",
   "language": "python",
   "name": "learn-env"
  },
  "language_info": {
   "codemirror_mode": {
    "name": "ipython",
    "version": 3
   },
   "file_extension": ".py",
   "mimetype": "text/x-python",
   "name": "python",
   "nbconvert_exporter": "python",
   "pygments_lexer": "ipython3",
   "version": "3.8.5"
  }
 },
 "nbformat": 4,
 "nbformat_minor": 4
}
