{
 "cells": [
  {
   "cell_type": "markdown",
   "metadata": {},
   "source": [
    "# Exploratory Notebook for Aviation Project, Group 4"
   ]
  },
  {
   "cell_type": "code",
   "execution_count": 2,
   "metadata": {},
   "outputs": [],
   "source": [
    "#Bring in packages for analysis.\n",
    "import pandas as pd\n",
    "import numpy as np\n",
    "from matplotlib import pyplot as plt\n",
    "import seaborn as sns"
   ]
  },
  {
   "cell_type": "code",
   "execution_count": 3,
   "metadata": {},
   "outputs": [],
   "source": [
    "df = pd.read_csv(\"data/AviationData.csv\", encoding='ISO-8859-1', low_memory=False)"
   ]
  },
  {
   "cell_type": "code",
   "execution_count": null,
   "metadata": {
    "scrolled": true
   },
   "outputs": [],
   "source": [
    "df.head()"
   ]
  },
  {
   "cell_type": "code",
   "execution_count": null,
   "metadata": {
    "scrolled": true
   },
   "outputs": [],
   "source": [
    "df.tail()"
   ]
  },
  {
   "cell_type": "code",
   "execution_count": null,
   "metadata": {
    "scrolled": true
   },
   "outputs": [],
   "source": [
    "df.info()"
   ]
  },
  {
   "cell_type": "code",
   "execution_count": null,
   "metadata": {},
   "outputs": [],
   "source": [
    "df.isna().sum()"
   ]
  },
  {
   "cell_type": "code",
   "execution_count": 4,
   "metadata": {},
   "outputs": [],
   "source": [
    "df['Event.Year'] = pd.DatetimeIndex(df['Event.Date']).year"
   ]
  },
  {
   "cell_type": "code",
   "execution_count": 5,
   "metadata": {
    "scrolled": true
   },
   "outputs": [],
   "source": [
    "df = df[df['Event.Year'] >= 2000]"
   ]
  },
  {
   "cell_type": "code",
   "execution_count": 6,
   "metadata": {},
   "outputs": [],
   "source": [
    "df[\"Fatal\"] = pd.notna(df[\"Total.Fatal.Injuries\"]).astype(int)"
   ]
  },
  {
   "cell_type": "code",
   "execution_count": 7,
   "metadata": {},
   "outputs": [],
   "source": [
    "df = df.drop(columns=['Latitude', 'Longitude', 'Report.Status', 'Country', 'Airport.Code', \n",
    "                'Airport.Name', 'Registration.Number', 'Number.of.Engines', 'Engine.Type',\n",
    "                'FAR.Description', 'Schedule', 'Air.carrier', 'Broad.phase.of.flight',\n",
    "                'Report.Status', 'Publication.Date', 'Location']) "
   ]
  },
  {
   "cell_type": "code",
   "execution_count": 8,
   "metadata": {},
   "outputs": [],
   "source": [
    "df.drop(df.index[df[\"Aircraft.Category\"] != \"Airplane\"], inplace=True)"
   ]
  },
  {
   "cell_type": "code",
   "execution_count": 9,
   "metadata": {},
   "outputs": [],
   "source": [
    "df.drop(df.index[df[\"Amateur.Built\"] == \"Yes\"], inplace=True)\n",
    "df.drop(df.index[df['Make'].isna()], inplace = True)\n",
    "df.drop(df.index[df['Model'].isna()], inplace =True)"
   ]
  },
  {
   "cell_type": "code",
   "execution_count": 10,
   "metadata": {},
   "outputs": [
    {
     "data": {
      "text/html": [
       "<div>\n",
       "<style scoped>\n",
       "    .dataframe tbody tr th:only-of-type {\n",
       "        vertical-align: middle;\n",
       "    }\n",
       "\n",
       "    .dataframe tbody tr th {\n",
       "        vertical-align: top;\n",
       "    }\n",
       "\n",
       "    .dataframe thead th {\n",
       "        text-align: right;\n",
       "    }\n",
       "</style>\n",
       "<table border=\"1\" class=\"dataframe\">\n",
       "  <thead>\n",
       "    <tr style=\"text-align: right;\">\n",
       "      <th></th>\n",
       "      <th>Event.Id</th>\n",
       "      <th>Investigation.Type</th>\n",
       "      <th>Accident.Number</th>\n",
       "      <th>Event.Date</th>\n",
       "      <th>Injury.Severity</th>\n",
       "      <th>Aircraft.damage</th>\n",
       "      <th>Aircraft.Category</th>\n",
       "      <th>Make</th>\n",
       "      <th>Model</th>\n",
       "      <th>Amateur.Built</th>\n",
       "      <th>Purpose.of.flight</th>\n",
       "      <th>Total.Fatal.Injuries</th>\n",
       "      <th>Total.Serious.Injuries</th>\n",
       "      <th>Total.Minor.Injuries</th>\n",
       "      <th>Total.Uninjured</th>\n",
       "      <th>Weather.Condition</th>\n",
       "      <th>Event.Year</th>\n",
       "      <th>Fatal</th>\n",
       "      <th>Commercial</th>\n",
       "    </tr>\n",
       "  </thead>\n",
       "  <tbody>\n",
       "    <tr>\n",
       "      <th>47682</th>\n",
       "      <td>20001212X20342</td>\n",
       "      <td>Incident</td>\n",
       "      <td>DCA00WA018</td>\n",
       "      <td>2000-01-02</td>\n",
       "      <td>Incident</td>\n",
       "      <td>Minor</td>\n",
       "      <td>Airplane</td>\n",
       "      <td>Boeing</td>\n",
       "      <td>737-3K2</td>\n",
       "      <td>No</td>\n",
       "      <td>Unknown</td>\n",
       "      <td>NaN</td>\n",
       "      <td>NaN</td>\n",
       "      <td>NaN</td>\n",
       "      <td>143.0</td>\n",
       "      <td>UNK</td>\n",
       "      <td>2000</td>\n",
       "      <td>0</td>\n",
       "      <td>Yes</td>\n",
       "    </tr>\n",
       "    <tr>\n",
       "      <th>47779</th>\n",
       "      <td>20001212X20343</td>\n",
       "      <td>Accident</td>\n",
       "      <td>DCA00WA022</td>\n",
       "      <td>2000-01-30</td>\n",
       "      <td>Fatal(169)</td>\n",
       "      <td>Destroyed</td>\n",
       "      <td>Airplane</td>\n",
       "      <td>Airbus Industrie</td>\n",
       "      <td>A 310</td>\n",
       "      <td>No</td>\n",
       "      <td>Unknown</td>\n",
       "      <td>169.0</td>\n",
       "      <td>NaN</td>\n",
       "      <td>10.0</td>\n",
       "      <td>NaN</td>\n",
       "      <td>UNK</td>\n",
       "      <td>2000</td>\n",
       "      <td>1</td>\n",
       "      <td>No</td>\n",
       "    </tr>\n",
       "    <tr>\n",
       "      <th>47845</th>\n",
       "      <td>20001212X20475</td>\n",
       "      <td>Accident</td>\n",
       "      <td>DCA00WA025</td>\n",
       "      <td>2000-02-12</td>\n",
       "      <td>Non-Fatal</td>\n",
       "      <td>Destroyed</td>\n",
       "      <td>Airplane</td>\n",
       "      <td>Boeing</td>\n",
       "      <td>B 727-100</td>\n",
       "      <td>No</td>\n",
       "      <td>Unknown</td>\n",
       "      <td>NaN</td>\n",
       "      <td>NaN</td>\n",
       "      <td>NaN</td>\n",
       "      <td>7.0</td>\n",
       "      <td>IMC</td>\n",
       "      <td>2000</td>\n",
       "      <td>0</td>\n",
       "      <td>Yes</td>\n",
       "    </tr>\n",
       "    <tr>\n",
       "      <th>47864</th>\n",
       "      <td>20001212X20487</td>\n",
       "      <td>Accident</td>\n",
       "      <td>FTW00FA083B</td>\n",
       "      <td>2000-02-16</td>\n",
       "      <td>Fatal(1)</td>\n",
       "      <td>Substantial</td>\n",
       "      <td>Airplane</td>\n",
       "      <td>Cessna</td>\n",
       "      <td>208B</td>\n",
       "      <td>No</td>\n",
       "      <td>Unknown</td>\n",
       "      <td>1.0</td>\n",
       "      <td>NaN</td>\n",
       "      <td>NaN</td>\n",
       "      <td>1.0</td>\n",
       "      <td>VMC</td>\n",
       "      <td>2000</td>\n",
       "      <td>1</td>\n",
       "      <td>No</td>\n",
       "    </tr>\n",
       "    <tr>\n",
       "      <th>47869</th>\n",
       "      <td>20001212X20487</td>\n",
       "      <td>Accident</td>\n",
       "      <td>FTW00FA083A</td>\n",
       "      <td>2000-02-16</td>\n",
       "      <td>Fatal(1)</td>\n",
       "      <td>Destroyed</td>\n",
       "      <td>Airplane</td>\n",
       "      <td>Cessna</td>\n",
       "      <td>182M</td>\n",
       "      <td>No</td>\n",
       "      <td>Personal</td>\n",
       "      <td>1.0</td>\n",
       "      <td>NaN</td>\n",
       "      <td>NaN</td>\n",
       "      <td>1.0</td>\n",
       "      <td>VMC</td>\n",
       "      <td>2000</td>\n",
       "      <td>1</td>\n",
       "      <td>No</td>\n",
       "    </tr>\n",
       "  </tbody>\n",
       "</table>\n",
       "</div>"
      ],
      "text/plain": [
       "             Event.Id Investigation.Type Accident.Number  Event.Date  \\\n",
       "47682  20001212X20342           Incident      DCA00WA018  2000-01-02   \n",
       "47779  20001212X20343           Accident      DCA00WA022  2000-01-30   \n",
       "47845  20001212X20475           Accident      DCA00WA025  2000-02-12   \n",
       "47864  20001212X20487           Accident     FTW00FA083B  2000-02-16   \n",
       "47869  20001212X20487           Accident     FTW00FA083A  2000-02-16   \n",
       "\n",
       "      Injury.Severity Aircraft.damage Aircraft.Category              Make  \\\n",
       "47682        Incident           Minor          Airplane            Boeing   \n",
       "47779      Fatal(169)       Destroyed          Airplane  Airbus Industrie   \n",
       "47845       Non-Fatal       Destroyed          Airplane            Boeing   \n",
       "47864        Fatal(1)     Substantial          Airplane            Cessna   \n",
       "47869        Fatal(1)       Destroyed          Airplane            Cessna   \n",
       "\n",
       "           Model Amateur.Built Purpose.of.flight  Total.Fatal.Injuries  \\\n",
       "47682    737-3K2            No           Unknown                   NaN   \n",
       "47779      A 310            No           Unknown                 169.0   \n",
       "47845  B 727-100            No           Unknown                   NaN   \n",
       "47864       208B            No           Unknown                   1.0   \n",
       "47869       182M            No          Personal                   1.0   \n",
       "\n",
       "       Total.Serious.Injuries  Total.Minor.Injuries  Total.Uninjured  \\\n",
       "47682                     NaN                   NaN            143.0   \n",
       "47779                     NaN                  10.0              NaN   \n",
       "47845                     NaN                   NaN              7.0   \n",
       "47864                     NaN                   NaN              1.0   \n",
       "47869                     NaN                   NaN              1.0   \n",
       "\n",
       "      Weather.Condition  Event.Year  Fatal Commercial  \n",
       "47682               UNK        2000      0        Yes  \n",
       "47779               UNK        2000      1         No  \n",
       "47845               IMC        2000      0        Yes  \n",
       "47864               VMC        2000      1         No  \n",
       "47869               VMC        2000      1         No  "
      ]
     },
     "execution_count": 10,
     "metadata": {},
     "output_type": "execute_result"
    }
   ],
   "source": [
    "df[\"Commercial\"] = \"No\"\n",
    "df.loc[df[\"Make\"].isin([\"Boeing\", \"Airbus\"]), \"Commercial\"] = \"Yes\"\n",
    "df.head()"
   ]
  },
  {
   "cell_type": "code",
   "execution_count": 11,
   "metadata": {},
   "outputs": [
    {
     "data": {
      "text/plain": [
       "CESSNA                            4864\n",
       "PIPER                             2802\n",
       "Cessna                            2224\n",
       "Piper                             1148\n",
       "BOEING                            1034\n",
       "                                  ... \n",
       "Diamond Aicraft Industries Inc       1\n",
       "Liberty Aerospace                    1\n",
       "GOODYEAR                             1\n",
       "SACHSE STEPHAN                       1\n",
       "CIRRUS DESIGN                        1\n",
       "Name: Make, Length: 1331, dtype: int64"
      ]
     },
     "execution_count": 11,
     "metadata": {},
     "output_type": "execute_result"
    }
   ],
   "source": [
    "df['Make'].value_counts()"
   ]
  },
  {
   "cell_type": "code",
   "execution_count": 12,
   "metadata": {},
   "outputs": [],
   "source": [
    "df['Make'] = df['Make'].astype(str)"
   ]
  },
  {
   "cell_type": "code",
   "execution_count": 13,
   "metadata": {},
   "outputs": [],
   "source": [
    "df['Make'] = df['Make'].str.capitalize()"
   ]
  },
  {
   "cell_type": "code",
   "execution_count": 14,
   "metadata": {},
   "outputs": [],
   "source": [
    "#replacing name spelling and differences for the top 200 makes as needed.\n",
    "df[\"Make\"] = df[\"Make\"].replace (\"Air tractor inc\", \"Air tractor\")\n",
    "df[\"Make\"] = df[\"Make\"].replace (\"Air tractor inc.\", \"Air tractor\")\n",
    "df[\"Make\"] = df[\"Make\"].replace (\"Airbus industrie\", \"Airbus\")\n",
    "df[\"Make\"] = df[\"Make\"].replace (\"American aviation\", \"American\")\n",
    "df[\"Make\"] = df[\"Make\"].replace (\"American aviation corp. (aac)\", \"American\")\n",
    "df[\"Make\"] = df[\"Make\"].replace (\"American champion (acac)\", \"American champion\")\n",
    "df[\"Make\"] = df[\"Make\"].replace (\"American champion aircraft)\", \"American champion\")\n",
    "df[\"Make\"] = df[\"Make\"].replace (\"American legend aircraft co\", \"American legend\")\n",
    "df[\"Make\"] = df[\"Make\"].replace (\"Aviat aircraft inc\", \"Aviat\")\n",
    "df[\"Make\"] = df[\"Make\"].replace (\"Aviat inc\", \"Aviat\")\n",
    "df[\"Make\"] = df[\"Make\"].replace (\"Ayres corporation\", \"Ayres\")\n",
    "df[\"Make\"] = df[\"Make\"].replace (\"Boeing stearman\", \"Boeing\")\n",
    "df[\"Make\"] = df[\"Make\"].replace (\"Boeing company\", \"Boeing\")\n",
    "df[\"Make\"] = df[\"Make\"].replace (\"The boeing company\", \"Boeing\")\n",
    "df[\"Make\"] = df[\"Make\"].replace (\"Bombardier, inc.\", \"Bombardier\")\n",
    "df[\"Make\"] = df[\"Make\"].replace (\"Britten-norman\", \"Britten norman\")\n",
    "df[\"Make\"] = df[\"Make\"].replace (\"Cessna aircraft\", \"Cessna\")\n",
    "df[\"Make\"] = df[\"Make\"].replace (\"Cessna aircraft co\", \"Cessna\")\n",
    "df[\"Make\"] = df[\"Make\"].replace (\"Cessna aircraft company\", \"Cessna\")\n",
    "df[\"Make\"] = df[\"Make\"].replace (\"Christen industries inc\", \"Christen industries\")\n",
    "df[\"Make\"] = df[\"Make\"].replace (\"Cirrus design corp.\", \"Cirrus\")\n",
    "df[\"Make\"] = df[\"Make\"].replace (\"Cirrus design corp\", \"Cirrus\")\n",
    "df[\"Make\"] = df[\"Make\"].replace (\"Cirrus design\", \"Cirrus\")\n",
    "df[\"Make\"] = df[\"Make\"].replace (\"Cirrus design corporation\", \"Cirrus\")\n",
    "df[\"Make\"] = df[\"Make\"].replace (\"Cub crafters\", \"Cubcrafters\")\n",
    "df[\"Make\"] = df[\"Make\"].replace (\"Cub crafters inc\", \"Cubcrafters\")\n",
    "df[\"Make\"] = df[\"Make\"].replace (\"Cubcrafters inc\", \"Cubcrafters\")\n",
    "df[\"Make\"] = df[\"Make\"].replace (\"Dassault-breguet\", \"Dassault\")\n",
    "df[\"Make\"] = df[\"Make\"].replace (\"De havilland\", \"Dehavilland\")\n",
    "df[\"Make\"] = df[\"Make\"].replace (\"Diamond aircraft ind gmbh\", \"Diamond\")\n",
    "df[\"Make\"] = df[\"Make\"].replace (\"Diamond aircraft ind inc\", \"Diamond\")\n",
    "df[\"Make\"] = df[\"Make\"].replace (\"Diamond aircraft industries\", \"Diamond\")\n",
    "df[\"Make\"] = df[\"Make\"].replace (\"Embraer-empresa brasileira de\", \"Embraer\")\n",
    "df[\"Make\"] = df[\"Make\"].replace (\"Embraer s a\", \"Embraer\")\n",
    "df[\"Make\"] = df[\"Make\"].replace (\"Ercoupe (eng & research corp.)\", \"Ercoupe\")\n",
    "df[\"Make\"] = df[\"Make\"].replace (\"Flight design gmbh\", \"Flight design\")\n",
    "df[\"Make\"] = df[\"Make\"].replace (\"Gates learjet corp.\", \"Gates lear jet\")\n",
    "df[\"Make\"] = df[\"Make\"].replace (\"Grumman american\", \"Grumman\")\n",
    "df[\"Make\"] = df[\"Make\"].replace (\"Grumman acft eng cor-schweizer\", \"Grumman\")\n",
    "df[\"Make\"] = df[\"Make\"].replace (\"Grumman american avn. corp.\", \"Grumman\")\n",
    "df[\"Make\"] = df[\"Make\"].replace (\"Grumman-schweizer\", \"Grumman\")\n",
    "df[\"Make\"] = df[\"Make\"].replace (\"Gulfstream-schweizer a/c corp\", \"Gulfstream\")\n",
    "df[\"Make\"] = df[\"Make\"].replace (\"Gulfstream-schweizer\", \"Gulfstream\")\n",
    "df[\"Make\"] = df[\"Make\"].replace (\"Gulfstream american corp\", \"Gulfstream\")\n",
    "df[\"Make\"] = df[\"Make\"].replace (\"Gulfstream aerospace\", \"Gulfstream\")\n",
    "df[\"Make\"] = df[\"Make\"].replace (\"Hawker beechcraft\", \"Hawker\")\n",
    "df[\"Make\"] = df[\"Make\"].replace (\"Hawker beechcraft corp\", \"Hawker\")\n",
    "df[\"Make\"] = df[\"Make\"].replace (\"Hawker beechcraft corp.\", \"Hawker\")\n",
    "df[\"Make\"] = df[\"Make\"].replace (\"Hawker beechcraft corporation\", \"Hawker\")\n",
    "df[\"Make\"] = df[\"Make\"].replace (\"Hawker siddeley\", \"Hawker\")\n",
    "df[\"Make\"] = df[\"Make\"].replace (\"Jabiru usa sport aircraft llc\", \"Jabiru\")\n",
    "df[\"Make\"] = df[\"Make\"].replace (\"Lancair company\", \"Lancair\")\n",
    "df[\"Make\"] = df[\"Make\"].replace (\"Learjet inc\", \"Learjet\")\n",
    "df[\"Make\"] = df[\"Make\"].replace (\"Liberty aerospace incorporated\", \"Liberty aerospace inc.\")\n",
    "df[\"Make\"] = df[\"Make\"].replace (\"Mcdonnell douglas aircraft co\", \"Mcdonnell douglas\")\n",
    "df[\"Make\"] = df[\"Make\"].replace (\"Douglas\", \"Mcdonnell douglas\")\n",
    "df[\"Make\"] = df[\"Make\"].replace (\"Lancair company\", \"Lancair\")\n",
    "df[\"Make\"] = df[\"Make\"].replace (\"Mooney aircraft corp.\", \"Mooney\")\n",
    "df[\"Make\"] = df[\"Make\"].replace (\"Mooney airplane co inc\", \"Mooney\")\n",
    "df[\"Make\"] = df[\"Make\"].replace (\"Nanchang china\", \"Nanchang\")\n",
    "df[\"Make\"] = df[\"Make\"].replace (\"Pilatus aircraft ltd\", \"Pilatus\")\n",
    "df[\"Make\"] = df[\"Make\"].replace (\"Piper aircraft inc\", \"Piper\")\n",
    "df[\"Make\"] = df[\"Make\"].replace (\"Piper aircraft corporation\", \"Piper\")\n",
    "df[\"Make\"] = df[\"Make\"].replace (\"Piper aircraft\", \"Piper\")\n",
    "df[\"Make\"] = df[\"Make\"].replace (\"Piper/cub crafters\", \"Piper\")\n",
    "df[\"Make\"] = df[\"Make\"].replace (\"Quest aircraft company llc\", \"Quest\")\n",
    "df[\"Make\"] = df[\"Make\"].replace (\"Raytheon aircraft company\", \"Raytheon\")\n",
    "df[\"Make\"] = df[\"Make\"].replace (\"Raytheon corporate jets\", \"Raytheon\")\n",
    "df[\"Make\"] = df[\"Make\"].replace (\"Remos acft gmbh flugzeugbau\", \"Remos aircraft gmbh\")\n",
    "df[\"Make\"] = df[\"Make\"].replace (\"Rockwell international\", \"Rockwell\")\n",
    "df[\"Make\"] = df[\"Make\"].replace (\"Ryan aeronautical\", \"Ryan\")\n",
    "df[\"Make\"] = df[\"Make\"].replace (\"Schweizer aircraft corp\", \"Schweizer\")\n",
    "df[\"Make\"] = df[\"Make\"].replace (\"Stearman aircraft\", \"Stearman\")\n",
    "df[\"Make\"] = df[\"Make\"].replace (\"Taylorcraft aviation corp\", \"Taylorcraft\")\n",
    "df[\"Make\"] = df[\"Make\"].replace (\"Thrush aircraft inc\", \"Thrush\")\n",
    "df[\"Make\"] = df[\"Make\"].replace (\"Vans aircraft inc\", \"Vans\")\n",
    "df[\"Make\"] = df[\"Make\"].replace (\"Waco classic aircraft\", \"Waco\")\n",
    "df[\"Make\"] = df[\"Make\"].replace (\"Weatherly aviation co inc\", \"Weatherly\")"
   ]
  },
  {
   "cell_type": "code",
   "execution_count": 15,
   "metadata": {},
   "outputs": [
    {
     "data": {
      "text/plain": [
       "Cessna                            7133\n",
       "Piper                             4000\n",
       "Beech                             1408\n",
       "Boeing                            1237\n",
       "Air tractor                        431\n",
       "                                  ... \n",
       "Gates learjet corporation            1\n",
       "Kaman                                1\n",
       "Jones peter m                        1\n",
       "Knott vernon w                       1\n",
       "Cobalt aircraft industries inc       1\n",
       "Name: Make, Length: 1010, dtype: int64"
      ]
     },
     "execution_count": 15,
     "metadata": {},
     "output_type": "execute_result"
    }
   ],
   "source": [
    "df['Make'].value_counts()"
   ]
  },
  {
   "cell_type": "code",
   "execution_count": 16,
   "metadata": {},
   "outputs": [],
   "source": [
    "df['Make.Model'] = df['Make']+ ' ' + df['Model']"
   ]
  },
  {
   "cell_type": "code",
   "execution_count": 17,
   "metadata": {},
   "outputs": [
    {
     "data": {
      "text/plain": [
       "1    18588\n",
       "0     2599\n",
       "Name: Fatal, dtype: int64"
      ]
     },
     "execution_count": 17,
     "metadata": {},
     "output_type": "execute_result"
    }
   ],
   "source": [
    "df[\"Fatal\"].value_counts()"
   ]
  },
  {
   "cell_type": "code",
   "execution_count": 20,
   "metadata": {},
   "outputs": [
    {
     "name": "stdout",
     "output_type": "stream",
     "text": [
      "Fatal  Commercial\n",
      "0      No             2519\n",
      "       Yes              80\n",
      "1      No            18458\n",
      "       Yes             130\n",
      "dtype: int64\n"
     ]
    }
   ],
   "source": [
    "counts = df.groupby([\"Fatal\", \"Commercial\"]).size()\n",
    "print(counts)"
   ]
  },
  {
   "cell_type": "code",
   "execution_count": 19,
   "metadata": {},
   "outputs": [
    {
     "data": {
      "text/plain": [
       "No     20977\n",
       "Yes      210\n",
       "Name: Commercial, dtype: int64"
      ]
     },
     "execution_count": 19,
     "metadata": {},
     "output_type": "execute_result"
    }
   ],
   "source": [
    "df[\"Commercial\"].value_counts()"
   ]
  },
  {
   "cell_type": "code",
   "execution_count": 22,
   "metadata": {},
   "outputs": [],
   "source": [
    "df.to_csv(\"data/AviationFinalData.csv\", encoding='ISO-8859-1', index=False)"
   ]
  },
  {
   "cell_type": "code",
   "execution_count": null,
   "metadata": {},
   "outputs": [],
   "source": []
  }
 ],
 "metadata": {
  "kernelspec": {
   "display_name": "Python (learn-env)",
   "language": "python",
   "name": "learn-env"
  },
  "language_info": {
   "codemirror_mode": {
    "name": "ipython",
    "version": 3
   },
   "file_extension": ".py",
   "mimetype": "text/x-python",
   "name": "python",
   "nbconvert_exporter": "python",
   "pygments_lexer": "ipython3",
   "version": "3.8.5"
  }
 },
 "nbformat": 4,
 "nbformat_minor": 4
}
