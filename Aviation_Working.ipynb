{
 "cells": [
  {
   "cell_type": "markdown",
   "metadata": {},
   "source": [
    "# Exploratory Notebook for Aviation Project, Group 4\n",
    "\n"
   ]
  },
  {
   "cell_type": "code",
   "execution_count": 1,
   "metadata": {},
   "outputs": [],
   "source": [
    "#Bring in packages for analysis.\n",
    "import pandas as pd\n",
    "import numpy as np\n",
    "from matplotlib import pyplot as plt\n",
    "import seaborn as sns"
   ]
  },
  {
   "cell_type": "code",
   "execution_count": 2,
   "metadata": {},
   "outputs": [],
   "source": [
    "# Importing the Avaiation Data set \n",
    "\n",
    "df = pd.read_csv(\"data/AviationData.csv\", encoding='ISO-8859-1', low_memory=False)"
   ]
  },
  {
   "cell_type": "code",
   "execution_count": null,
   "metadata": {
    "scrolled": true
   },
   "outputs": [],
   "source": [
    "df.head()"
   ]
  },
  {
   "cell_type": "code",
   "execution_count": null,
   "metadata": {
    "scrolled": true
   },
   "outputs": [],
   "source": [
    "df.tail()"
   ]
  },
  {
   "cell_type": "code",
   "execution_count": null,
   "metadata": {
    "scrolled": true
   },
   "outputs": [],
   "source": [
    "df.info()"
   ]
  },
  {
   "cell_type": "code",
   "execution_count": null,
   "metadata": {},
   "outputs": [],
   "source": [
    "#    commenting this out for now   \n",
    "\n",
    "#This is not especially  helpful. It seemed more efficient than looking at each var 1 by 1, but it's too much info to weed through all together.\n",
    "  \n",
    "#for v in df.columns:\n",
    " #   print(df[v].value_counts())"
   ]
  },
  {
   "cell_type": "code",
   "execution_count": null,
   "metadata": {},
   "outputs": [],
   "source": [
    "df.isna().sum()"
   ]
  },
  {
   "cell_type": "code",
   "execution_count": 3,
   "metadata": {},
   "outputs": [],
   "source": [
    "# Here we are creating a new column for the event year pulling the year from the even date column\n",
    "\n",
    "df['Event.Year'] = pd.DatetimeIndex(df['Event.Date']).year"
   ]
  },
  {
   "cell_type": "code",
   "execution_count": 4,
   "metadata": {
    "scrolled": true
   },
   "outputs": [],
   "source": [
    "# Filtering the events to only occur after the year of 2000, you can see below that our data set has decreased from 88889 down to 41214\n",
    "\n",
    "df = df[df['Event.Year'] >= 2000]"
   ]
  },
  {
   "cell_type": "code",
   "execution_count": null,
   "metadata": {
    "scrolled": false
   },
   "outputs": [],
   "source": [
    "df"
   ]
  },
  {
   "cell_type": "code",
   "execution_count": 5,
   "metadata": {},
   "outputs": [],
   "source": [
    "# Now that the events have been filtered out to only show the data after 2000 we are dropping any columns that are not needed\n",
    "\n",
    "df = df.drop(columns=['Latitude', 'Longitude', 'Report.Status', 'Airport.Code', \n",
    "                'Airport.Name', 'Registration.Number', 'Number.of.Engines', 'Engine.Type',\n",
    "                'FAR.Description', 'Schedule', 'Air.carrier', 'Broad.phase.of.flight',\n",
    "                'Report.Status', 'Publication.Date', 'Location']) "
   ]
  },
  {
   "cell_type": "code",
   "execution_count": 6,
   "metadata": {},
   "outputs": [],
   "source": [
    "# Removing any aircrafts that were amateur built\n",
    "df.drop(df.index[df[\"Amateur.Built\"] == \"Yes\"], inplace=True) \n",
    "\n",
    "# Removing any countries outside of the United States because we only want to look at domestic flights\n",
    "df.drop(df.index[df[\"Country\"] != \"United States\"], inplace=True)\n",
    "\n",
    "# Removing any aircrafts that are not categorized under airplane\n",
    "df.drop(df.index[df[\"Aircraft.Category\"] != \"Airplane\"], inplace=True)\n",
    "\n",
    "# Removing any aircrafts that are missing either the make or the model\n",
    "df.drop(df.index[df['Make'].isna()], inplace = True)\n",
    "df.drop(df.index[df['Model'].isna()], inplace =True)"
   ]
  },
  {
   "cell_type": "code",
   "execution_count": null,
   "metadata": {
    "scrolled": true
   },
   "outputs": [],
   "source": [
    "df['Make'].value_counts()"
   ]
  },
  {
   "cell_type": "code",
   "execution_count": null,
   "metadata": {
    "scrolled": false
   },
   "outputs": [],
   "source": [
    "df"
   ]
  },
  {
   "cell_type": "code",
   "execution_count": null,
   "metadata": {},
   "outputs": [],
   "source": [
    "df.info()"
   ]
  },
  {
   "cell_type": "code",
   "execution_count": null,
   "metadata": {
    "scrolled": true
   },
   "outputs": [],
   "source": [
    "df.isna().sum()"
   ]
  },
  {
   "cell_type": "code",
   "execution_count": 7,
   "metadata": {},
   "outputs": [],
   "source": [
    "df['Make'] = df['Make'].astype(str)\n",
    "df['Make'] = df['Make'].str.capitalize()"
   ]
  },
  {
   "cell_type": "code",
   "execution_count": 8,
   "metadata": {},
   "outputs": [],
   "source": [
    "df['Model'] = df['Model'].astype(str)\n",
    "df['Model'] = df['Model'].str.upper()"
   ]
  },
  {
   "cell_type": "code",
   "execution_count": 9,
   "metadata": {},
   "outputs": [],
   "source": [
    "df[\"Make\"] = df[\"Make\"].replace (\"Air tractor inc\", \"Air tractor\")\n",
    "df[\"Make\"] = df[\"Make\"].replace (\"Air tractor inc.\", \"Air tractor\")\n",
    "df[\"Make\"] = df[\"Make\"].replace (\"Airbus industrie\", \"Airbus\")\n",
    "df[\"Make\"] = df[\"Make\"].replace (\"American aviation\", \"American\")\n",
    "df[\"Make\"] = df[\"Make\"].replace (\"American aviation corp. (aac)\", \"American\")\n",
    "df[\"Make\"] = df[\"Make\"].replace (\"American champion (acac)\", \"American champion\")\n",
    "df[\"Make\"] = df[\"Make\"].replace (\"American champion aircraft)\", \"American champion\")\n",
    "df[\"Make\"] = df[\"Make\"].replace (\"American legend aircraft co\", \"American legend\")\n",
    "df[\"Make\"] = df[\"Make\"].replace (\"Aviat aircraft inc\", \"Aviat\")\n",
    "df[\"Make\"] = df[\"Make\"].replace (\"Aviat inc\", \"Aviat\")\n",
    "df[\"Make\"] = df[\"Make\"].replace (\"Ayres corporation\", \"Ayres\")\n",
    "df[\"Make\"] = df[\"Make\"].replace (\"Boeing stearman\", \"Boeing\")\n",
    "df[\"Make\"] = df[\"Make\"].replace (\"Boeing company\", \"Boeing\")\n",
    "df[\"Make\"] = df[\"Make\"].replace (\"The boeing company\", \"Boeing\")\n",
    "df[\"Make\"] = df[\"Make\"].replace (\"Bombardier, inc.\", \"Bombardier\")\n",
    "df[\"Make\"] = df[\"Make\"].replace (\"Britten-norman\", \"Britten norman\")\n",
    "df[\"Make\"] = df[\"Make\"].replace (\"Cessna aircraft\", \"Cessna\")\n",
    "df[\"Make\"] = df[\"Make\"].replace (\"Cessna aircraft co\", \"Cessna\")\n",
    "df[\"Make\"] = df[\"Make\"].replace (\"Cessna aircraft company\", \"Cessna\")\n",
    "df[\"Make\"] = df[\"Make\"].replace (\"Christen industries inc\", \"Christen industries\")\n",
    "df[\"Make\"] = df[\"Make\"].replace (\"Cirrus design corp.\", \"Cirrus\")\n",
    "df[\"Make\"] = df[\"Make\"].replace (\"Cirrus design corp\", \"Cirrus\")\n",
    "df[\"Make\"] = df[\"Make\"].replace (\"Cirrus design\", \"Cirrus\")\n",
    "df[\"Make\"] = df[\"Make\"].replace (\"Cirrus design corporation\", \"Cirrus\")\n",
    "df[\"Make\"] = df[\"Make\"].replace (\"Cub crafters\", \"Cubcrafters\")\n",
    "df[\"Make\"] = df[\"Make\"].replace (\"Cub crafters inc\", \"Cubcrafters\")\n",
    "df[\"Make\"] = df[\"Make\"].replace (\"Cubcrafters inc\", \"Cubcrafters\")\n",
    "df[\"Make\"] = df[\"Make\"].replace (\"Dassault-breguet\", \"Dassault\")\n",
    "df[\"Make\"] = df[\"Make\"].replace (\"De havilland\", \"Dehavilland\")\n",
    "df[\"Make\"] = df[\"Make\"].replace (\"Diamond aircraft ind gmbh\", \"Diamond\")\n",
    "df[\"Make\"] = df[\"Make\"].replace (\"Diamond aircraft ind inc\", \"Diamond\")\n",
    "df[\"Make\"] = df[\"Make\"].replace (\"Diamond aircraft industries\", \"Diamond\")\n",
    "df[\"Make\"] = df[\"Make\"].replace (\"Embraer-empresa brasileira de\", \"Embraer\")\n",
    "df[\"Make\"] = df[\"Make\"].replace (\"Embraer s a\", \"Embraer\")\n",
    "df[\"Make\"] = df[\"Make\"].replace (\"Ercoupe (eng & research corp.)\", \"Ercoupe\")\n",
    "df[\"Make\"] = df[\"Make\"].replace (\"Flight design gmbh\", \"Flight design\")\n",
    "df[\"Make\"] = df[\"Make\"].replace (\"Gates learjet corp.\", \"Gates lear jet\")\n",
    "df[\"Make\"] = df[\"Make\"].replace (\"Grumman american\", \"Grumman\")\n",
    "df[\"Make\"] = df[\"Make\"].replace (\"Grumman acft eng cor-schweizer\", \"Grumman\")\n",
    "df[\"Make\"] = df[\"Make\"].replace (\"Grumman american avn. corp.\", \"Grumman\")\n",
    "df[\"Make\"] = df[\"Make\"].replace (\"Grumman-schweizer\", \"Grumman\")\n",
    "df[\"Make\"] = df[\"Make\"].replace (\"Gulfstream-schweizer a/c corp\", \"Gulfstream\")\n",
    "df[\"Make\"] = df[\"Make\"].replace (\"Gulfstream-schweizer\", \"Gulfstream\")\n",
    "df[\"Make\"] = df[\"Make\"].replace (\"Gulfstream american corp\", \"Gulfstream\")\n",
    "df[\"Make\"] = df[\"Make\"].replace (\"Gulfstream aerospace\", \"Gulfstream\")\n",
    "df[\"Make\"] = df[\"Make\"].replace (\"Hawker beechcraft\", \"Hawker\")\n",
    "df[\"Make\"] = df[\"Make\"].replace (\"Hawker beechcraft corp\", \"Hawker\")\n",
    "df[\"Make\"] = df[\"Make\"].replace (\"Hawker beechcraft corp.\", \"Hawker\")\n",
    "df[\"Make\"] = df[\"Make\"].replace (\"Hawker beechcraft corporation\", \"Hawker\")\n",
    "df[\"Make\"] = df[\"Make\"].replace (\"Hawker siddeley\", \"Hawker\")\n",
    "df[\"Make\"] = df[\"Make\"].replace (\"Jabiru usa sport aircraft llc\", \"Jabiru\")\n",
    "df[\"Make\"] = df[\"Make\"].replace (\"Lancair company\", \"Lancair\")\n",
    "df[\"Make\"] = df[\"Make\"].replace (\"Learjet inc\", \"Learjet\")\n",
    "df[\"Make\"] = df[\"Make\"].replace (\"Liberty aerospace incorporated\", \"Liberty aerospace inc.\")\n",
    "df[\"Make\"] = df[\"Make\"].replace (\"Mcdonnell douglas aircraft co\", \"Mcdonnell douglas\")\n",
    "df[\"Make\"] = df[\"Make\"].replace (\"Douglas\", \"Mcdonnell douglas\")\n",
    "df[\"Make\"] = df[\"Make\"].replace (\"Lancair company\", \"Lancair\")\n",
    "df[\"Make\"] = df[\"Make\"].replace (\"Mooney aircraft corp.\", \"Mooney\")\n",
    "df[\"Make\"] = df[\"Make\"].replace (\"Mooney airplane co inc\", \"Mooney\")\n",
    "df[\"Make\"] = df[\"Make\"].replace (\"Nanchang china\", \"Nanchang\")\n",
    "df[\"Make\"] = df[\"Make\"].replace (\"Pilatus aircraft ltd\", \"Pilatus\")\n",
    "df[\"Make\"] = df[\"Make\"].replace (\"Piper aircraft inc\", \"Piper\")\n",
    "df[\"Make\"] = df[\"Make\"].replace (\"Piper aircraft corporation\", \"Piper\")\n",
    "df[\"Make\"] = df[\"Make\"].replace (\"Piper aircraft\", \"Piper\")\n",
    "df[\"Make\"] = df[\"Make\"].replace (\"Piper/cub crafters\", \"Piper\")\n",
    "df[\"Make\"] = df[\"Make\"].replace (\"Quest aircraft company llc\", \"Quest\")\n",
    "df[\"Make\"] = df[\"Make\"].replace (\"Raytheon aircraft company\", \"Raytheon\")\n",
    "df[\"Make\"] = df[\"Make\"].replace (\"Raytheon corporate jets\", \"Raytheon\")\n",
    "df[\"Make\"] = df[\"Make\"].replace (\"Remos acft gmbh flugzeugbau\", \"Remos aircraft gmbh\")\n",
    "df[\"Make\"] = df[\"Make\"].replace (\"Rockwell international\", \"Rockwell\")\n",
    "df[\"Make\"] = df[\"Make\"].replace (\"Ryan aeronautical\", \"Ryan\")\n",
    "df[\"Make\"] = df[\"Make\"].replace (\"Schweizer aircraft corp\", \"Schweizer\")\n",
    "df[\"Make\"] = df[\"Make\"].replace (\"Stearman aircraft\", \"Stearman\")\n",
    "df[\"Make\"] = df[\"Make\"].replace (\"Taylorcraft aviation corp\", \"Taylorcraft\")\n",
    "df[\"Make\"] = df[\"Make\"].replace (\"Thrush aircraft inc\", \"Thrush\")\n",
    "df[\"Make\"] = df[\"Make\"].replace (\"Vans aircraft inc\", \"Vans\")\n",
    "df[\"Make\"] = df[\"Make\"].replace (\"Waco classic aircraft\", \"Waco\")\n",
    "df[\"Make\"] = df[\"Make\"].replace (\"Weatherly aviation co inc\", \"Weatherly\")"
   ]
  },
  {
   "cell_type": "code",
   "execution_count": null,
   "metadata": {
    "scrolled": true
   },
   "outputs": [],
   "source": [
    "df['Make'].value_counts()"
   ]
  },
  {
   "cell_type": "code",
   "execution_count": 10,
   "metadata": {},
   "outputs": [],
   "source": [
    "df['Make.Model'] = df['Make']+ ' ' + df['Model']"
   ]
  },
  {
   "cell_type": "code",
   "execution_count": null,
   "metadata": {
    "scrolled": true
   },
   "outputs": [],
   "source": [
    "df"
   ]
  },
  {
   "cell_type": "code",
   "execution_count": null,
   "metadata": {
    "scrolled": true
   },
   "outputs": [],
   "source": [
    "df['Make.Model'].value_counts()[:50]"
   ]
  },
  {
   "cell_type": "code",
   "execution_count": 11,
   "metadata": {},
   "outputs": [
    {
     "data": {
      "text/plain": [
       "0.0     12948\n",
       "1.0      1366\n",
       "2.0       759\n",
       "3.0       226\n",
       "4.0       133\n",
       "5.0        44\n",
       "6.0        20\n",
       "7.0         8\n",
       "10.0        5\n",
       "9.0         3\n",
       "8.0         3\n",
       "11.0        1\n",
       "14.0        1\n",
       "49.0        1\n",
       "13.0        1\n",
       "65.0        1\n",
       "Name: Total.Fatal.Injuries, dtype: int64"
      ]
     },
     "execution_count": 11,
     "metadata": {},
     "output_type": "execute_result"
    }
   ],
   "source": [
    "df['Total.Fatal.Injuries'].value_counts()"
   ]
  },
  {
   "cell_type": "code",
   "execution_count": 12,
   "metadata": {},
   "outputs": [],
   "source": [
    "# This creates a new column with \"yes\" for if the make is boeing or airbus and \"no\" for everything else.\n",
    "df[\"Commercial\"] = \"No\"\n",
    "df.loc[df[\"Make\"].isin([\"Boeing\", \"Airbus\"]), \"Commercial\"] = \"Yes\""
   ]
  },
  {
   "cell_type": "code",
   "execution_count": 13,
   "metadata": {},
   "outputs": [],
   "source": [
    "df[\"Fatal\"] = pd.notna(df[\"Total.Fatal.Injuries\"]).astype(int)"
   ]
  },
  {
   "cell_type": "code",
   "execution_count": null,
   "metadata": {},
   "outputs": [],
   "source": [
    "df['Fatal'].value_counts()"
   ]
  },
  {
   "cell_type": "code",
   "execution_count": null,
   "metadata": {
    "scrolled": true
   },
   "outputs": [],
   "source": [
    "df"
   ]
  },
  {
   "cell_type": "code",
   "execution_count": null,
   "metadata": {},
   "outputs": [],
   "source": [
    "df['Make'].value_counts()[:50]"
   ]
  },
  {
   "cell_type": "code",
   "execution_count": null,
   "metadata": {},
   "outputs": [],
   "source": [
    "df['Commercial'].value_counts()"
   ]
  },
  {
   "cell_type": "code",
   "execution_count": 15,
   "metadata": {},
   "outputs": [
    {
     "name": "stdout",
     "output_type": "stream",
     "text": [
      "Make.Model\n",
      "Cirrus SR22         111.0\n",
      "Cessna 172          103.0\n",
      "Beech A36            91.0\n",
      "Boeing 767-200ER     65.0\n",
      "Cessna 182           63.0\n",
      "Name: Total.Fatal.Injuries, dtype: float64\n"
     ]
    }
   ],
   "source": [
    "#This is grouping our make.model column with the total.fatal.injuries column. \n",
    "#It is also declaring a variable to be equal to the make.models with the top 5 most fatalities\n",
    "MakeModel_fatalities = df.groupby('Make.Model')['Total.Fatal.Injuries'].sum()\n",
    "\n",
    "top_5_MakeModel_by_fatalities = MakeModel_fatalities.sort_values(ascending=False).head(5)\n",
    "\n",
    "print(top_5_MakeModel_by_fatalities)"
   ]
  },
  {
   "cell_type": "code",
   "execution_count": 16,
   "metadata": {},
   "outputs": [],
   "source": [
    "#This is declaring variables which will be used for the bar graph axis below after grouping them above. \n",
    "make_model_names = top_5_MakeModel_by_fatalities.index\n",
    "fatal_injuries = top_5_MakeModel_by_fatalities.values"
   ]
  },
  {
   "cell_type": "code",
   "execution_count": 17,
   "metadata": {},
   "outputs": [
    {
     "data": {
      "image/png": "[encoded data removed]",
      "text/plain": [
       "<Figure size 864x432 with 1 Axes>"
      ]
     },
     "metadata": {
      "needs_background": "light"
     },
     "output_type": "display_data"
    }
   ],
   "source": [
    "#Bar Chart Showing the Top 5 Make.Models by total Fatalities (All are commercial)\n",
    "plt.figure(figsize=(12, 6))\n",
    "plt.bar(make_model_names, fatal_injuries, color='skyblue', edgecolor='black', alpha=0.7)\n",
    "plt.xlabel('Make and Model')\n",
    "plt.ylabel('Total Fatal Injuries')\n",
    "plt.title('Top 5 Aircraft Makes and Models by Total Fatal Injuries')\n",
    "plt.xticks(rotation=0, ha='center');"
   ]
  },
  {
   "cell_type": "code",
   "execution_count": 18,
   "metadata": {},
   "outputs": [
    {
     "data": {
      "text/plain": [
       "Make\n",
       "Airbus    102\n",
       "Boeing    365\n",
       "Name: Fatal, dtype: int32"
      ]
     },
     "execution_count": 18,
     "metadata": {},
     "output_type": "execute_result"
    }
   ],
   "source": [
    "Commercial_Flights = df[df['Commercial'] == 'Yes']\n",
    "Totaled_Commercial_Fatalities_by_Make = Commercial_Flights.groupby('Make')['Fatal'].sum()\n",
    "Totaled_Commercial_Fatalities_by_Make.tail(5)\n",
    "#This groups the sum of Fatal values equal to 1 based on the Make with a Commercial value of Yes "
   ]
  },
  {
   "cell_type": "code",
   "execution_count": 22,
   "metadata": {},
   "outputs": [
    {
     "name": "stdout",
     "output_type": "stream",
     "text": [
      "0.08888888888888889\n",
      "0.09016393442622951\n"
     ]
    }
   ],
   "source": [
    "Boeing_Occurances = 1215\n",
    "Boeing_Fatality_Occurance = 108\n",
    "Airbus_Occurances = 244\n",
    "Airbus_Fatality_Occurances = 22\n",
    "\n",
    "Boeing_Average_Fatality_Occurance = Boeing_Fatality_Occurance/Boeing_Occurances\n",
    "Airbus_Average_Fatality_Occurance = Airbus_Fatality_Occurances/Airbus_Occurances\n",
    "\n",
    "print(Boeing_Average_Fatality_Occurance)\n",
    "print(Airbus_Average_Fatality_Occurance)\n",
    "\n",
    "#we can see here that 8.8% of the time Boeing Accidents will have Fatalities\n",
    "#we can see here that 9% of the time Airbus will have Fatalities"
   ]
  },
  {
   "cell_type": "code",
   "execution_count": 20,
   "metadata": {},
   "outputs": [
    {
     "data": {
      "image/png": "[encoded data removed]",
      "text/plain": [
       "<Figure size 576x432 with 1 Axes>"
      ]
     },
     "metadata": {
      "needs_background": "light"
     },
     "output_type": "display_data"
    }
   ],
   "source": [
    "#Hard coding Airbus vs Boeing for the visual\n",
    "makes = [\"Airbus\", \"Boeing\"]\n",
    "totaled_fatalities_occurence = [22, 108]\n",
    "\n",
    "plt.figure(figsize=(8, 6))\n",
    "plt.bar(makes, totaled_fatalities_occurence, color=[\"skyblue\", \"salmon\"], edgecolor='black')\n",
    "plt.xlabel(\"Makes\")\n",
    "plt.ylabel(\"Total Fatality Occurrence\")\n",
    "plt.title(\"Total Fatality Occurrence for Commercial Flights\")\n",
    "plt.ylim(0, 120)\n",
    "plt.yticks(range(0, 140, 20));"
   ]
  },
  {
   "cell_type": "code",
   "execution_count": 23,
   "metadata": {},
   "outputs": [
    {
     "data": {
      "image/png": "[encoded data removed]",
      "text/plain": [
       "<Figure size 720x720 with 1 Axes>"
      ]
     },
     "metadata": {
      "needs_background": "light"
     },
     "output_type": "display_data"
    }
   ],
   "source": [
    "# We can see above that boeing has a lot more occurances of fatal accidents than Airbus. \n",
    "# But what is important is comparing the occurances of fatal accidents by the sample size. \n",
    "makes = [\"Airbus\", \"Boeing\"]\n",
    "fatalities_occurance_averages = [Airbus_Average_Fatality_Occurance*100, Boeing_Average_Fatality_Occurance*100]\n",
    "\n",
    "plt.figure(figsize=(10, 10))\n",
    "plt.bar(makes, fatalities_occurance_averages, color=[\"skyblue\", \"salmon\"], edgecolor='black')\n",
    "plt.xlabel(\"Makes\")\n",
    "plt.ylabel(\"Percent of Fatality Occurance\")\n",
    "plt.title(\"Average Fatality Occurance for Commercial Flights\")\n",
    "plt.ylim(0, 10)\n",
    "plt.yticks(range(0, 11, 1))\n",
    "plt.grid(axis='y', linestyle='--');"
   ]
  },
  {
   "cell_type": "code",
   "execution_count": null,
   "metadata": {},
   "outputs": [],
   "source": [
    "#It is difficult to see, but Airbus at 9% and Boeing is at 8.8%  \n",
    "#Therefore we can recommend Boeing as the Safest Commercial Maker adjusted for the limitations in the dataset."
   ]
  },
  {
   "cell_type": "code",
   "execution_count": 24,
   "metadata": {},
   "outputs": [],
   "source": [
    "Private_Flights_Minor_Damage = df[(df['Commercial'] == 'No') & (df['Aircraft.damage'] == 'Minor')]\n",
    "Private_Flights_Minor_Damage_MostCommon = Private_Flights_Minor_Damage['Make'].value_counts().nlargest(20)\n",
    "#This is giving us the top 20 most commonly occuring Makes by Minor Damage so we can get the average. "
   ]
  },
  {
   "cell_type": "code",
   "execution_count": 25,
   "metadata": {},
   "outputs": [
    {
     "data": {
      "text/plain": [
       "Cessna               59\n",
       "Piper                27\n",
       "Beech                18\n",
       "Embraer              16\n",
       "Mcdonnell douglas    14\n",
       "Bombardier inc       13\n",
       "Cirrus               11\n",
       "Bombardier            8\n",
       "Raytheon              8\n",
       "Dehavilland           6\n",
       "Diamond               4\n",
       "North american        4\n",
       "Mooney                3\n",
       "Taylorcraft           3\n",
       "Aviat                 3\n",
       "Gulfstream            3\n",
       "Flight design         3\n",
       "Air tractor           3\n",
       "Hawker                3\n",
       "Pilatus               2\n",
       "Name: Make, dtype: int64"
      ]
     },
     "execution_count": 25,
     "metadata": {},
     "output_type": "execute_result"
    }
   ],
   "source": [
    "Private_Flights_Minor_Damage_MostCommon\n",
    "#As we can see below Cessna has 94 occurences, Piper has 46 occurences, Bombardier has 32 occurences"
   ]
  },
  {
   "cell_type": "code",
   "execution_count": 26,
   "metadata": {},
   "outputs": [
    {
     "name": "stdout",
     "output_type": "stream",
     "text": [
      "1.2838600451467268\n",
      "1.1645569620253164\n",
      "26.01626016260163\n"
     ]
    }
   ],
   "source": [
    "#Cessna occurs 7088 \n",
    "#Piper occurs 3950 \n",
    "#Bombardier occurs 123\n",
    "#We can find average occurance of minor damages by accidents\n",
    "Cessna = (91/7088) * 100\n",
    "Piper = (46/3950) * 100\n",
    "Bombardier = (32/123) * 100\n",
    "\n",
    "\n",
    "print(Cessna)\n",
    "print(Piper)\n",
    "print(Bombardier)"
   ]
  },
  {
   "cell_type": "code",
   "execution_count": 27,
   "metadata": {},
   "outputs": [],
   "source": [
    "Private_Flights_Destroyed_Damage = df[(df['Commercial'] == 'No') & (df['Aircraft.damage'] == 'Destroyed')]\n",
    "Private_Flights_Minor_Destroyed_MostCommon = Private_Flights_Destroyed_Damage['Make'].value_counts().nlargest(30)"
   ]
  },
  {
   "cell_type": "code",
   "execution_count": 28,
   "metadata": {},
   "outputs": [
    {
     "data": {
      "text/plain": [
       "Cessna               401\n",
       "Piper                297\n",
       "Beech                169\n",
       "Cirrus                53\n",
       "Air tractor           44\n",
       "Mooney                37\n",
       "Grumman               34\n",
       "North american        15\n",
       "Raytheon              14\n",
       "Dehavilland           11\n",
       "Hawker                11\n",
       "Rockwell              11\n",
       "Champion              10\n",
       "Bellanca              10\n",
       "Socata                 9\n",
       "Aviat                  9\n",
       "Ayres                  8\n",
       "Mitsubishi             7\n",
       "Maule                  7\n",
       "Aeronca                7\n",
       "Flight design          6\n",
       "Gulfstream             6\n",
       "Smith                  6\n",
       "Aero commander         6\n",
       "Diamond                6\n",
       "American               5\n",
       "Learjet                5\n",
       "Pilatus                5\n",
       "Aero vodochody         4\n",
       "Mcdonnell douglas      4\n",
       "Name: Make, dtype: int64"
      ]
     },
     "execution_count": 28,
     "metadata": {},
     "output_type": "execute_result"
    }
   ],
   "source": [
    "Private_Flights_Minor_Destroyed_MostCommon"
   ]
  },
  {
   "cell_type": "code",
   "execution_count": 29,
   "metadata": {},
   "outputs": [
    {
     "data": {
      "text/plain": [
       "0"
      ]
     },
     "execution_count": 29,
     "metadata": {},
     "output_type": "execute_result"
    }
   ],
   "source": [
    "#This is going to look up Mcdonnel douglas directly\n",
    "Bombardier_Destroyed = df[(df['Make'] == 'Bombardier') & (df['Aircraft.damage'] == 'Destroyed') & (df['Commercial'] == 'No')]\n",
    "Total_Bomb_Destroyed = len(Bombardier_Destroyed)\n",
    "Total_Bomb_Destroyed"
   ]
  },
  {
   "cell_type": "code",
   "execution_count": 30,
   "metadata": {},
   "outputs": [
    {
     "data": {
      "image/png": "[encoded data removed]",
      "text/plain": [
       "<Figure size 720x720 with 1 Axes>"
      ]
     },
     "metadata": {
      "needs_background": "light"
     },
     "output_type": "display_data"
    }
   ],
   "source": [
    "#Since Embraer and Mcdonnel have less than 200 entries in the data set lets only using Cessna, Piper, and Beech\n",
    "makes = [\"Cessna\", \"Piper\", \"Bombardier\"]\n",
    "minor_dmg_occurence_averages = [Cessna, Piper, Bombardier]\n",
    "\n",
    "plt.figure(figsize=(10, 10))\n",
    "plt.bar(makes, minor_dmg_occurence_averages, color=[\"lightblue\", \"blue\", \"purple\"], edgecolor='black')\n",
    "plt.xlabel(\"Makes\")\n",
    "plt.ylabel(\"Percent of Minor Damage Occurance\")\n",
    "plt.title(\"Average Minor Damage Occurance for Private Flights\")\n",
    "plt.ylim(0, 30)\n",
    "plt.yticks(range(0, 30, 1))\n",
    "plt.grid(axis='y', linestyle='--');"
   ]
  },
  {
   "cell_type": "code",
   "execution_count": 31,
   "metadata": {},
   "outputs": [
    {
     "name": "stdout",
     "output_type": "stream",
     "text": [
      "9.113995485327314\n",
      "10.886075949367088\n",
      "3.2520325203252036\n"
     ]
    }
   ],
   "source": [
    "#now I need to calculate the averages of Destroyed data occurence\n",
    "Cessna_Destroyed = (646/7088)*100\n",
    "Piper_Destroyed = (430/3950)*100\n",
    "Bombardier_Destroyed = (4/123)*100\n",
    "\n",
    "print(Cessna_Destroyed)\n",
    "print(Piper_Destroyed)\n",
    "print(Bombardier_Destroyed)\n",
    "\n",
    "#I notice that Cessna has the lowest average for destroyed damage types and the second highest "
   ]
  },
  {
   "cell_type": "code",
   "execution_count": 32,
   "metadata": {},
   "outputs": [
    {
     "data": {
      "image/png": "[encoded data removed]",
      "text/plain": [
       "<Figure size 720x720 with 1 Axes>"
      ]
     },
     "metadata": {
      "needs_background": "light"
     },
     "output_type": "display_data"
    }
   ],
   "source": [
    "makes = [\"Cessna\", \"Piper\", \"Bombardier\"]\n",
    "destroyed_dmg_occurence_averages = [Cessna_Destroyed, Piper_Destroyed, Bombardier_Destroyed]\n",
    "\n",
    "plt.figure(figsize=(10, 10))\n",
    "plt.bar(makes, destroyed_dmg_occurence_averages, color=[\"lightblue\", \"blue\", \"purple\"], edgecolor='black')\n",
    "plt.xlabel(\"Makes\")\n",
    "plt.ylabel(\"Percent of Destroyed Damage Occurance\")\n",
    "plt.title(\"Average Destroyed Damage Occurance for Private Flights\")\n",
    "plt.ylim(0, 15)\n",
    "plt.yticks(range(0, 15, 1))\n",
    "plt.grid(axis='y', linestyle='--');"
   ]
  },
  {
   "cell_type": "code",
   "execution_count": 33,
   "metadata": {},
   "outputs": [
    {
     "data": {
      "text/plain": [
       "Boeing    69\n",
       "Airbus    33\n",
       "Name: Make, dtype: int64"
      ]
     },
     "execution_count": 33,
     "metadata": {},
     "output_type": "execute_result"
    }
   ],
   "source": [
    "#Now we gotta compared the Avearges of Minor Damage and Destroyed for Commercial Flights\n",
    "Commercial_Flights_Minor_Damage = df[(df['Commercial'] == 'Yes') & (df['Aircraft.damage'] == 'Minor')]\n",
    "Commercial_Flights_Minor_Damage_Totaled = Commercial_Flights_Minor_Damage['Make'].value_counts().nlargest()\n",
    "Commercial_Flights_Minor_Damage_Totaled"
   ]
  },
  {
   "cell_type": "code",
   "execution_count": 34,
   "metadata": {},
   "outputs": [
    {
     "name": "stdout",
     "output_type": "stream",
     "text": [
      "3.2098765432098766\n",
      "2.459016393442623\n"
     ]
    }
   ],
   "source": [
    "#Boeing has 1215 occurences in the filtered data set and 39 of those had minor damages\n",
    "#Airbus has 244 occurences in the filtered data set and 6 of those had minor damages\n",
    "#Lets find the averages\n",
    "Boeing_Minor = (39/1215)*100\n",
    "Airbus_Minor = (6/244)*100\n",
    "\n",
    "print(Boeing_Minor)\n",
    "print(Airbus_Minor)"
   ]
  },
  {
   "cell_type": "code",
   "execution_count": 35,
   "metadata": {},
   "outputs": [
    {
     "data": {
      "image/png": "[encoded data removed]",
      "text/plain": [
       "<Figure size 720x720 with 1 Axes>"
      ]
     },
     "metadata": {
      "needs_background": "light"
     },
     "output_type": "display_data"
    }
   ],
   "source": [
    "makes = [\"Airbus\", \"Boeing\"]\n",
    "Commercial_MinorDmg_occurance_averages = [Airbus_Minor, Boeing_Minor]\n",
    "plt.figure(figsize=(10, 10))\n",
    "plt.bar(makes, Commercial_MinorDmg_occurance_averages, color=[\"skyblue\", \"salmon\"], edgecolor='black')\n",
    "plt.xlabel(\"Makes\")\n",
    "plt.ylabel(\"Percent of Minor Damage Occurance\")\n",
    "plt.title(\"Average Minor Damage Occurance for Commercial Flights\")\n",
    "plt.ylim(0, 5)\n",
    "plt.yticks(range(0, 6, 1))\n",
    "plt.grid(axis='y', linestyle='--');"
   ]
  },
  {
   "cell_type": "code",
   "execution_count": 36,
   "metadata": {},
   "outputs": [
    {
     "data": {
      "text/plain": [
       "Boeing    10\n",
       "Airbus     1\n",
       "Name: Make, dtype: int64"
      ]
     },
     "execution_count": 36,
     "metadata": {},
     "output_type": "execute_result"
    }
   ],
   "source": [
    "Commercial_Flights_Destroyed_Damage = df[(df['Commercial'] == 'Yes') & (df['Aircraft.damage'] == 'Destroyed')]\n",
    "Commercial_Flights_Destroyed_Damage_Totaled = Commercial_Flights_Destroyed_Damage['Make'].value_counts().nlargest()\n",
    "Commercial_Flights_Destroyed_Damage_Totaled"
   ]
  },
  {
   "cell_type": "code",
   "execution_count": 37,
   "metadata": {},
   "outputs": [
    {
     "name": "stdout",
     "output_type": "stream",
     "text": [
      "0.9876543209876543\n",
      "0.4098360655737705\n"
     ]
    }
   ],
   "source": [
    "#As we can see airbus was only destroyed 1 time out of 244 while Boeing was destroyed 12 times out of 1215\n",
    "Boeing_Destroyed = (12/1215) *100\n",
    "Airbus_Destroyed = (1/244) *100\n",
    "\n",
    "print(Boeing_Destroyed)\n",
    "print(Airbus_Destroyed)"
   ]
  },
  {
   "cell_type": "code",
   "execution_count": 38,
   "metadata": {},
   "outputs": [
    {
     "data": {
      "image/png": "[encoded data removed]",
      "text/plain": [
       "<Figure size 720x720 with 1 Axes>"
      ]
     },
     "metadata": {
      "needs_background": "light"
     },
     "output_type": "display_data"
    }
   ],
   "source": [
    "#Since the averages are so small I think our graph should show the number of occurences: Boeing = 12 and Airbus = 1\n",
    "#The exporatory data can be left here with our description\n",
    "#In the explanatory presentation we can explain what the 12 and the 1 mean\n",
    "\n",
    "makes = [\"Airbus\", \"Boeing\"]\n",
    "Commercial_DestroyedDmg_occurance_averages = [1, 12]\n",
    "plt.figure(figsize=(10, 10))\n",
    "plt.bar(makes, Commercial_DestroyedDmg_occurance_averages, color=[\"skyblue\", \"salmon\"], edgecolor='black')\n",
    "plt.xlabel(\"Makes\")\n",
    "plt.ylabel(\"Total Destroyed Damage Occurance\")\n",
    "plt.title(\"Total Destroyed Damage Occurance for Commercial Flights\")\n",
    "plt.ylim(0, 15)\n",
    "plt.yticks(range(0, 15, 1))\n",
    "plt.grid(axis='y', linestyle='--');"
   ]
  },
  {
   "cell_type": "code",
   "execution_count": null,
   "metadata": {},
   "outputs": [],
   "source": []
  },
  {
   "cell_type": "code",
   "execution_count": null,
   "metadata": {},
   "outputs": [],
   "source": []
  },
  {
   "cell_type": "code",
   "execution_count": null,
   "metadata": {},
   "outputs": [],
   "source": []
  },
  {
   "cell_type": "code",
   "execution_count": null,
   "metadata": {},
   "outputs": [],
   "source": []
  },
  {
   "cell_type": "code",
   "execution_count": null,
   "metadata": {},
   "outputs": [],
   "source": []
  }
 ],
 "metadata": {
  "kernelspec": {
   "display_name": "Python (learn-env)",
   "language": "python",
   "name": "learn-env"
  },
  "language_info": {
   "codemirror_mode": {
    "name": "ipython",
    "version": 3
   },
   "file_extension": ".py",
   "mimetype": "text/x-python",
   "name": "python",
   "nbconvert_exporter": "python",
   "pygments_lexer": "ipython3",
   "version": "3.8.5"
  }
 },
 "nbformat": 4,
 "nbformat_minor": 4
}
