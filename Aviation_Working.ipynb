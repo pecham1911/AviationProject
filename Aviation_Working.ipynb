{
 "cells": [
  {
   "cell_type": "markdown",
   "metadata": {},
   "source": [
    "# Exploratory Notebook for Aviation Project, Group 4\n",
    "\n"
   ]
  },
  {
   "cell_type": "code",
   "execution_count": 1,
   "metadata": {},
   "outputs": [],
   "source": [
    "#Bring in packages for analysis.\n",
    "import pandas as pd\n",
    "import numpy as np\n",
    "from matplotlib import pyplot as plt\n",
    "import seaborn as sns"
   ]
  },
  {
   "cell_type": "code",
   "execution_count": 2,
   "metadata": {},
   "outputs": [],
   "source": [
    "# Importing the Avaiation Data set \n",
    "df = pd.read_csv(\"data/AviationData.csv\", encoding='ISO-8859-1', low_memory=False)"
   ]
  },
  {
   "cell_type": "markdown",
   "metadata": {},
   "source": [
    "### Initial review of the data"
   ]
  },
  {
   "cell_type": "code",
   "execution_count": 3,
   "metadata": {
    "scrolled": true
   },
   "outputs": [
    {
     "data": {
      "text/html": [
       "<div>\n",
       "<style scoped>\n",
       "    .dataframe tbody tr th:only-of-type {\n",
       "        vertical-align: middle;\n",
       "    }\n",
       "\n",
       "    .dataframe tbody tr th {\n",
       "        vertical-align: top;\n",
       "    }\n",
       "\n",
       "    .dataframe thead th {\n",
       "        text-align: right;\n",
       "    }\n",
       "</style>\n",
       "<table border=\"1\" class=\"dataframe\">\n",
       "  <thead>\n",
       "    <tr style=\"text-align: right;\">\n",
       "      <th></th>\n",
       "      <th>Event.Id</th>\n",
       "      <th>Investigation.Type</th>\n",
       "      <th>Accident.Number</th>\n",
       "      <th>Event.Date</th>\n",
       "      <th>Location</th>\n",
       "      <th>Country</th>\n",
       "      <th>Latitude</th>\n",
       "      <th>Longitude</th>\n",
       "      <th>Airport.Code</th>\n",
       "      <th>Airport.Name</th>\n",
       "      <th>...</th>\n",
       "      <th>Purpose.of.flight</th>\n",
       "      <th>Air.carrier</th>\n",
       "      <th>Total.Fatal.Injuries</th>\n",
       "      <th>Total.Serious.Injuries</th>\n",
       "      <th>Total.Minor.Injuries</th>\n",
       "      <th>Total.Uninjured</th>\n",
       "      <th>Weather.Condition</th>\n",
       "      <th>Broad.phase.of.flight</th>\n",
       "      <th>Report.Status</th>\n",
       "      <th>Publication.Date</th>\n",
       "    </tr>\n",
       "  </thead>\n",
       "  <tbody>\n",
       "    <tr>\n",
       "      <th>0</th>\n",
       "      <td>20001218X45444</td>\n",
       "      <td>Accident</td>\n",
       "      <td>SEA87LA080</td>\n",
       "      <td>1948-10-24</td>\n",
       "      <td>MOOSE CREEK, ID</td>\n",
       "      <td>United States</td>\n",
       "      <td>NaN</td>\n",
       "      <td>NaN</td>\n",
       "      <td>NaN</td>\n",
       "      <td>NaN</td>\n",
       "      <td>...</td>\n",
       "      <td>Personal</td>\n",
       "      <td>NaN</td>\n",
       "      <td>2.0</td>\n",
       "      <td>0.0</td>\n",
       "      <td>0.0</td>\n",
       "      <td>0.0</td>\n",
       "      <td>UNK</td>\n",
       "      <td>Cruise</td>\n",
       "      <td>Probable Cause</td>\n",
       "      <td>NaN</td>\n",
       "    </tr>\n",
       "    <tr>\n",
       "      <th>1</th>\n",
       "      <td>20001218X45447</td>\n",
       "      <td>Accident</td>\n",
       "      <td>LAX94LA336</td>\n",
       "      <td>1962-07-19</td>\n",
       "      <td>BRIDGEPORT, CA</td>\n",
       "      <td>United States</td>\n",
       "      <td>NaN</td>\n",
       "      <td>NaN</td>\n",
       "      <td>NaN</td>\n",
       "      <td>NaN</td>\n",
       "      <td>...</td>\n",
       "      <td>Personal</td>\n",
       "      <td>NaN</td>\n",
       "      <td>4.0</td>\n",
       "      <td>0.0</td>\n",
       "      <td>0.0</td>\n",
       "      <td>0.0</td>\n",
       "      <td>UNK</td>\n",
       "      <td>Unknown</td>\n",
       "      <td>Probable Cause</td>\n",
       "      <td>19-09-1996</td>\n",
       "    </tr>\n",
       "    <tr>\n",
       "      <th>2</th>\n",
       "      <td>20061025X01555</td>\n",
       "      <td>Accident</td>\n",
       "      <td>NYC07LA005</td>\n",
       "      <td>1974-08-30</td>\n",
       "      <td>Saltville, VA</td>\n",
       "      <td>United States</td>\n",
       "      <td>36.922223</td>\n",
       "      <td>-81.878056</td>\n",
       "      <td>NaN</td>\n",
       "      <td>NaN</td>\n",
       "      <td>...</td>\n",
       "      <td>Personal</td>\n",
       "      <td>NaN</td>\n",
       "      <td>3.0</td>\n",
       "      <td>NaN</td>\n",
       "      <td>NaN</td>\n",
       "      <td>NaN</td>\n",
       "      <td>IMC</td>\n",
       "      <td>Cruise</td>\n",
       "      <td>Probable Cause</td>\n",
       "      <td>26-02-2007</td>\n",
       "    </tr>\n",
       "    <tr>\n",
       "      <th>3</th>\n",
       "      <td>20001218X45448</td>\n",
       "      <td>Accident</td>\n",
       "      <td>LAX96LA321</td>\n",
       "      <td>1977-06-19</td>\n",
       "      <td>EUREKA, CA</td>\n",
       "      <td>United States</td>\n",
       "      <td>NaN</td>\n",
       "      <td>NaN</td>\n",
       "      <td>NaN</td>\n",
       "      <td>NaN</td>\n",
       "      <td>...</td>\n",
       "      <td>Personal</td>\n",
       "      <td>NaN</td>\n",
       "      <td>2.0</td>\n",
       "      <td>0.0</td>\n",
       "      <td>0.0</td>\n",
       "      <td>0.0</td>\n",
       "      <td>IMC</td>\n",
       "      <td>Cruise</td>\n",
       "      <td>Probable Cause</td>\n",
       "      <td>12-09-2000</td>\n",
       "    </tr>\n",
       "    <tr>\n",
       "      <th>4</th>\n",
       "      <td>20041105X01764</td>\n",
       "      <td>Accident</td>\n",
       "      <td>CHI79FA064</td>\n",
       "      <td>1979-08-02</td>\n",
       "      <td>Canton, OH</td>\n",
       "      <td>United States</td>\n",
       "      <td>NaN</td>\n",
       "      <td>NaN</td>\n",
       "      <td>NaN</td>\n",
       "      <td>NaN</td>\n",
       "      <td>...</td>\n",
       "      <td>Personal</td>\n",
       "      <td>NaN</td>\n",
       "      <td>1.0</td>\n",
       "      <td>2.0</td>\n",
       "      <td>NaN</td>\n",
       "      <td>0.0</td>\n",
       "      <td>VMC</td>\n",
       "      <td>Approach</td>\n",
       "      <td>Probable Cause</td>\n",
       "      <td>16-04-1980</td>\n",
       "    </tr>\n",
       "  </tbody>\n",
       "</table>\n",
       "<p>5 rows × 31 columns</p>\n",
       "</div>"
      ],
      "text/plain": [
       "         Event.Id Investigation.Type Accident.Number  Event.Date  \\\n",
       "0  20001218X45444           Accident      SEA87LA080  1948-10-24   \n",
       "1  20001218X45447           Accident      LAX94LA336  1962-07-19   \n",
       "2  20061025X01555           Accident      NYC07LA005  1974-08-30   \n",
       "3  20001218X45448           Accident      LAX96LA321  1977-06-19   \n",
       "4  20041105X01764           Accident      CHI79FA064  1979-08-02   \n",
       "\n",
       "          Location        Country   Latitude   Longitude Airport.Code  \\\n",
       "0  MOOSE CREEK, ID  United States        NaN         NaN          NaN   \n",
       "1   BRIDGEPORT, CA  United States        NaN         NaN          NaN   \n",
       "2    Saltville, VA  United States  36.922223  -81.878056          NaN   \n",
       "3       EUREKA, CA  United States        NaN         NaN          NaN   \n",
       "4       Canton, OH  United States        NaN         NaN          NaN   \n",
       "\n",
       "  Airport.Name  ... Purpose.of.flight Air.carrier Total.Fatal.Injuries  \\\n",
       "0          NaN  ...          Personal         NaN                  2.0   \n",
       "1          NaN  ...          Personal         NaN                  4.0   \n",
       "2          NaN  ...          Personal         NaN                  3.0   \n",
       "3          NaN  ...          Personal         NaN                  2.0   \n",
       "4          NaN  ...          Personal         NaN                  1.0   \n",
       "\n",
       "  Total.Serious.Injuries Total.Minor.Injuries Total.Uninjured  \\\n",
       "0                    0.0                  0.0             0.0   \n",
       "1                    0.0                  0.0             0.0   \n",
       "2                    NaN                  NaN             NaN   \n",
       "3                    0.0                  0.0             0.0   \n",
       "4                    2.0                  NaN             0.0   \n",
       "\n",
       "  Weather.Condition  Broad.phase.of.flight   Report.Status Publication.Date  \n",
       "0               UNK                 Cruise  Probable Cause              NaN  \n",
       "1               UNK                Unknown  Probable Cause       19-09-1996  \n",
       "2               IMC                 Cruise  Probable Cause       26-02-2007  \n",
       "3               IMC                 Cruise  Probable Cause       12-09-2000  \n",
       "4               VMC               Approach  Probable Cause       16-04-1980  \n",
       "\n",
       "[5 rows x 31 columns]"
      ]
     },
     "execution_count": 3,
     "metadata": {},
     "output_type": "execute_result"
    }
   ],
   "source": [
    "df.head()"
   ]
  },
  {
   "cell_type": "code",
   "execution_count": 4,
   "metadata": {
    "scrolled": true
   },
   "outputs": [
    {
     "data": {
      "text/html": [
       "<div>\n",
       "<style scoped>\n",
       "    .dataframe tbody tr th:only-of-type {\n",
       "        vertical-align: middle;\n",
       "    }\n",
       "\n",
       "    .dataframe tbody tr th {\n",
       "        vertical-align: top;\n",
       "    }\n",
       "\n",
       "    .dataframe thead th {\n",
       "        text-align: right;\n",
       "    }\n",
       "</style>\n",
       "<table border=\"1\" class=\"dataframe\">\n",
       "  <thead>\n",
       "    <tr style=\"text-align: right;\">\n",
       "      <th></th>\n",
       "      <th>Event.Id</th>\n",
       "      <th>Investigation.Type</th>\n",
       "      <th>Accident.Number</th>\n",
       "      <th>Event.Date</th>\n",
       "      <th>Location</th>\n",
       "      <th>Country</th>\n",
       "      <th>Latitude</th>\n",
       "      <th>Longitude</th>\n",
       "      <th>Airport.Code</th>\n",
       "      <th>Airport.Name</th>\n",
       "      <th>...</th>\n",
       "      <th>Purpose.of.flight</th>\n",
       "      <th>Air.carrier</th>\n",
       "      <th>Total.Fatal.Injuries</th>\n",
       "      <th>Total.Serious.Injuries</th>\n",
       "      <th>Total.Minor.Injuries</th>\n",
       "      <th>Total.Uninjured</th>\n",
       "      <th>Weather.Condition</th>\n",
       "      <th>Broad.phase.of.flight</th>\n",
       "      <th>Report.Status</th>\n",
       "      <th>Publication.Date</th>\n",
       "    </tr>\n",
       "  </thead>\n",
       "  <tbody>\n",
       "    <tr>\n",
       "      <th>88884</th>\n",
       "      <td>20221227106491</td>\n",
       "      <td>Accident</td>\n",
       "      <td>ERA23LA093</td>\n",
       "      <td>2022-12-26</td>\n",
       "      <td>Annapolis, MD</td>\n",
       "      <td>United States</td>\n",
       "      <td>NaN</td>\n",
       "      <td>NaN</td>\n",
       "      <td>NaN</td>\n",
       "      <td>NaN</td>\n",
       "      <td>...</td>\n",
       "      <td>Personal</td>\n",
       "      <td>NaN</td>\n",
       "      <td>0.0</td>\n",
       "      <td>1.0</td>\n",
       "      <td>0.0</td>\n",
       "      <td>0.0</td>\n",
       "      <td>NaN</td>\n",
       "      <td>NaN</td>\n",
       "      <td>NaN</td>\n",
       "      <td>29-12-2022</td>\n",
       "    </tr>\n",
       "    <tr>\n",
       "      <th>88885</th>\n",
       "      <td>20221227106494</td>\n",
       "      <td>Accident</td>\n",
       "      <td>ERA23LA095</td>\n",
       "      <td>2022-12-26</td>\n",
       "      <td>Hampton, NH</td>\n",
       "      <td>United States</td>\n",
       "      <td>NaN</td>\n",
       "      <td>NaN</td>\n",
       "      <td>NaN</td>\n",
       "      <td>NaN</td>\n",
       "      <td>...</td>\n",
       "      <td>NaN</td>\n",
       "      <td>NaN</td>\n",
       "      <td>0.0</td>\n",
       "      <td>0.0</td>\n",
       "      <td>0.0</td>\n",
       "      <td>0.0</td>\n",
       "      <td>NaN</td>\n",
       "      <td>NaN</td>\n",
       "      <td>NaN</td>\n",
       "      <td>NaN</td>\n",
       "    </tr>\n",
       "    <tr>\n",
       "      <th>88886</th>\n",
       "      <td>20221227106497</td>\n",
       "      <td>Accident</td>\n",
       "      <td>WPR23LA075</td>\n",
       "      <td>2022-12-26</td>\n",
       "      <td>Payson, AZ</td>\n",
       "      <td>United States</td>\n",
       "      <td>341525N</td>\n",
       "      <td>1112021W</td>\n",
       "      <td>PAN</td>\n",
       "      <td>PAYSON</td>\n",
       "      <td>...</td>\n",
       "      <td>Personal</td>\n",
       "      <td>NaN</td>\n",
       "      <td>0.0</td>\n",
       "      <td>0.0</td>\n",
       "      <td>0.0</td>\n",
       "      <td>1.0</td>\n",
       "      <td>VMC</td>\n",
       "      <td>NaN</td>\n",
       "      <td>NaN</td>\n",
       "      <td>27-12-2022</td>\n",
       "    </tr>\n",
       "    <tr>\n",
       "      <th>88887</th>\n",
       "      <td>20221227106498</td>\n",
       "      <td>Accident</td>\n",
       "      <td>WPR23LA076</td>\n",
       "      <td>2022-12-26</td>\n",
       "      <td>Morgan, UT</td>\n",
       "      <td>United States</td>\n",
       "      <td>NaN</td>\n",
       "      <td>NaN</td>\n",
       "      <td>NaN</td>\n",
       "      <td>NaN</td>\n",
       "      <td>...</td>\n",
       "      <td>Personal</td>\n",
       "      <td>MC CESSNA 210N LLC</td>\n",
       "      <td>0.0</td>\n",
       "      <td>0.0</td>\n",
       "      <td>0.0</td>\n",
       "      <td>0.0</td>\n",
       "      <td>NaN</td>\n",
       "      <td>NaN</td>\n",
       "      <td>NaN</td>\n",
       "      <td>NaN</td>\n",
       "    </tr>\n",
       "    <tr>\n",
       "      <th>88888</th>\n",
       "      <td>20221230106513</td>\n",
       "      <td>Accident</td>\n",
       "      <td>ERA23LA097</td>\n",
       "      <td>2022-12-29</td>\n",
       "      <td>Athens, GA</td>\n",
       "      <td>United States</td>\n",
       "      <td>NaN</td>\n",
       "      <td>NaN</td>\n",
       "      <td>NaN</td>\n",
       "      <td>NaN</td>\n",
       "      <td>...</td>\n",
       "      <td>Personal</td>\n",
       "      <td>NaN</td>\n",
       "      <td>0.0</td>\n",
       "      <td>1.0</td>\n",
       "      <td>0.0</td>\n",
       "      <td>1.0</td>\n",
       "      <td>NaN</td>\n",
       "      <td>NaN</td>\n",
       "      <td>NaN</td>\n",
       "      <td>30-12-2022</td>\n",
       "    </tr>\n",
       "  </tbody>\n",
       "</table>\n",
       "<p>5 rows × 31 columns</p>\n",
       "</div>"
      ],
      "text/plain": [
       "             Event.Id Investigation.Type Accident.Number  Event.Date  \\\n",
       "88884  20221227106491           Accident      ERA23LA093  2022-12-26   \n",
       "88885  20221227106494           Accident      ERA23LA095  2022-12-26   \n",
       "88886  20221227106497           Accident      WPR23LA075  2022-12-26   \n",
       "88887  20221227106498           Accident      WPR23LA076  2022-12-26   \n",
       "88888  20221230106513           Accident      ERA23LA097  2022-12-29   \n",
       "\n",
       "            Location        Country Latitude Longitude Airport.Code  \\\n",
       "88884  Annapolis, MD  United States      NaN       NaN          NaN   \n",
       "88885    Hampton, NH  United States      NaN       NaN          NaN   \n",
       "88886     Payson, AZ  United States  341525N  1112021W          PAN   \n",
       "88887     Morgan, UT  United States      NaN       NaN          NaN   \n",
       "88888     Athens, GA  United States      NaN       NaN          NaN   \n",
       "\n",
       "      Airport.Name  ... Purpose.of.flight         Air.carrier  \\\n",
       "88884          NaN  ...          Personal                 NaN   \n",
       "88885          NaN  ...               NaN                 NaN   \n",
       "88886       PAYSON  ...          Personal                 NaN   \n",
       "88887          NaN  ...          Personal  MC CESSNA 210N LLC   \n",
       "88888          NaN  ...          Personal                 NaN   \n",
       "\n",
       "      Total.Fatal.Injuries Total.Serious.Injuries Total.Minor.Injuries  \\\n",
       "88884                  0.0                    1.0                  0.0   \n",
       "88885                  0.0                    0.0                  0.0   \n",
       "88886                  0.0                    0.0                  0.0   \n",
       "88887                  0.0                    0.0                  0.0   \n",
       "88888                  0.0                    1.0                  0.0   \n",
       "\n",
       "      Total.Uninjured Weather.Condition  Broad.phase.of.flight Report.Status  \\\n",
       "88884             0.0               NaN                    NaN           NaN   \n",
       "88885             0.0               NaN                    NaN           NaN   \n",
       "88886             1.0               VMC                    NaN           NaN   \n",
       "88887             0.0               NaN                    NaN           NaN   \n",
       "88888             1.0               NaN                    NaN           NaN   \n",
       "\n",
       "      Publication.Date  \n",
       "88884       29-12-2022  \n",
       "88885              NaN  \n",
       "88886       27-12-2022  \n",
       "88887              NaN  \n",
       "88888       30-12-2022  \n",
       "\n",
       "[5 rows x 31 columns]"
      ]
     },
     "execution_count": 4,
     "metadata": {},
     "output_type": "execute_result"
    }
   ],
   "source": [
    "df.tail()"
   ]
  },
  {
   "cell_type": "code",
   "execution_count": 5,
   "metadata": {
    "scrolled": true
   },
   "outputs": [
    {
     "name": "stdout",
     "output_type": "stream",
     "text": [
      "<class 'pandas.core.frame.DataFrame'>\n",
      "RangeIndex: 88889 entries, 0 to 88888\n",
      "Data columns (total 31 columns):\n",
      " #   Column                  Non-Null Count  Dtype  \n",
      "---  ------                  --------------  -----  \n",
      " 0   Event.Id                88889 non-null  object \n",
      " 1   Investigation.Type      88889 non-null  object \n",
      " 2   Accident.Number         88889 non-null  object \n",
      " 3   Event.Date              88889 non-null  object \n",
      " 4   Location                88837 non-null  object \n",
      " 5   Country                 88663 non-null  object \n",
      " 6   Latitude                34382 non-null  object \n",
      " 7   Longitude               34373 non-null  object \n",
      " 8   Airport.Code            50249 non-null  object \n",
      " 9   Airport.Name            52790 non-null  object \n",
      " 10  Injury.Severity         87889 non-null  object \n",
      " 11  Aircraft.damage         85695 non-null  object \n",
      " 12  Aircraft.Category       32287 non-null  object \n",
      " 13  Registration.Number     87572 non-null  object \n",
      " 14  Make                    88826 non-null  object \n",
      " 15  Model                   88797 non-null  object \n",
      " 16  Amateur.Built           88787 non-null  object \n",
      " 17  Number.of.Engines       82805 non-null  float64\n",
      " 18  Engine.Type             81812 non-null  object \n",
      " 19  FAR.Description         32023 non-null  object \n",
      " 20  Schedule                12582 non-null  object \n",
      " 21  Purpose.of.flight       82697 non-null  object \n",
      " 22  Air.carrier             16648 non-null  object \n",
      " 23  Total.Fatal.Injuries    77488 non-null  float64\n",
      " 24  Total.Serious.Injuries  76379 non-null  float64\n",
      " 25  Total.Minor.Injuries    76956 non-null  float64\n",
      " 26  Total.Uninjured         82977 non-null  float64\n",
      " 27  Weather.Condition       84397 non-null  object \n",
      " 28  Broad.phase.of.flight   61724 non-null  object \n",
      " 29  Report.Status           82508 non-null  object \n",
      " 30  Publication.Date        75118 non-null  object \n",
      "dtypes: float64(5), object(26)\n",
      "memory usage: 21.0+ MB\n"
     ]
    }
   ],
   "source": [
    "df.info()"
   ]
  },
  {
   "cell_type": "code",
   "execution_count": 6,
   "metadata": {},
   "outputs": [
    {
     "data": {
      "text/plain": [
       "Event.Id                      0\n",
       "Investigation.Type            0\n",
       "Accident.Number               0\n",
       "Event.Date                    0\n",
       "Location                     52\n",
       "Country                     226\n",
       "Latitude                  54507\n",
       "Longitude                 54516\n",
       "Airport.Code              38640\n",
       "Airport.Name              36099\n",
       "Injury.Severity            1000\n",
       "Aircraft.damage            3194\n",
       "Aircraft.Category         56602\n",
       "Registration.Number        1317\n",
       "Make                         63\n",
       "Model                        92\n",
       "Amateur.Built               102\n",
       "Number.of.Engines          6084\n",
       "Engine.Type                7077\n",
       "FAR.Description           56866\n",
       "Schedule                  76307\n",
       "Purpose.of.flight          6192\n",
       "Air.carrier               72241\n",
       "Total.Fatal.Injuries      11401\n",
       "Total.Serious.Injuries    12510\n",
       "Total.Minor.Injuries      11933\n",
       "Total.Uninjured            5912\n",
       "Weather.Condition          4492\n",
       "Broad.phase.of.flight     27165\n",
       "Report.Status              6381\n",
       "Publication.Date          13771\n",
       "dtype: int64"
      ]
     },
     "execution_count": 6,
     "metadata": {},
     "output_type": "execute_result"
    }
   ],
   "source": [
    "df.isna().sum()"
   ]
  },
  {
   "cell_type": "code",
   "execution_count": 7,
   "metadata": {},
   "outputs": [
    {
     "data": {
      "text/plain": [
       "Event.Id                   0.000000\n",
       "Investigation.Type         0.000000\n",
       "Accident.Number            0.000000\n",
       "Event.Date                 0.000000\n",
       "Location                   0.058500\n",
       "Country                    0.254250\n",
       "Latitude                  61.320298\n",
       "Longitude                 61.330423\n",
       "Airport.Code              43.469946\n",
       "Airport.Name              40.611324\n",
       "Injury.Severity            1.124999\n",
       "Aircraft.damage            3.593246\n",
       "Aircraft.Category         63.677170\n",
       "Registration.Number        1.481623\n",
       "Make                       0.070875\n",
       "Model                      0.103500\n",
       "Amateur.Built              0.114750\n",
       "Number.of.Engines          6.844491\n",
       "Engine.Type                7.961615\n",
       "FAR.Description           63.974170\n",
       "Schedule                  85.845268\n",
       "Purpose.of.flight          6.965991\n",
       "Air.carrier               81.271023\n",
       "Total.Fatal.Injuries      12.826109\n",
       "Total.Serious.Injuries    14.073732\n",
       "Total.Minor.Injuries      13.424608\n",
       "Total.Uninjured            6.650992\n",
       "Weather.Condition          5.053494\n",
       "Broad.phase.of.flight     30.560587\n",
       "Report.Status              7.178616\n",
       "Publication.Date          15.492356\n",
       "dtype: float64"
      ]
     },
     "execution_count": 7,
     "metadata": {},
     "output_type": "execute_result"
    }
   ],
   "source": [
    "df.isna().sum()/len(df)*100"
   ]
  },
  {
   "cell_type": "markdown",
   "metadata": {},
   "source": [
    "### Data cleaning and manipulation: creation of new columns, filtering, and dropping of columns and rows"
   ]
  },
  {
   "cell_type": "code",
   "execution_count": 8,
   "metadata": {},
   "outputs": [],
   "source": [
    "# Here we are creating a new column for the event year pulling the year from the even date column\n",
    "\n",
    "df['Event.Year'] = pd.DatetimeIndex(df['Event.Date']).year"
   ]
  },
  {
   "cell_type": "code",
   "execution_count": 9,
   "metadata": {
    "scrolled": true
   },
   "outputs": [],
   "source": [
    "# Filtering the events to only occur after the year of 2000, you can see below that our data set has decreased from 88889 down to 41214\n",
    "\n",
    "df = df[df['Event.Year'] >= 2000]"
   ]
  },
  {
   "cell_type": "code",
   "execution_count": 10,
   "metadata": {},
   "outputs": [],
   "source": [
    "# Now that the events have been filtered out to only show the data after 2000 we are dropping any columns that are not needed\n",
    "\n",
    "df = df.drop(columns=['Latitude', 'Longitude', 'Report.Status', 'Airport.Code', \n",
    "                'Airport.Name', 'Registration.Number', 'Number.of.Engines', 'Engine.Type',\n",
    "                'FAR.Description', 'Schedule', 'Air.carrier', 'Broad.phase.of.flight',\n",
    "                'Report.Status', 'Publication.Date', 'Location']) "
   ]
  },
  {
   "cell_type": "code",
   "execution_count": 11,
   "metadata": {},
   "outputs": [],
   "source": [
    "# Removing any aircrafts that were amateur built\n",
    "df.drop(df.index[df[\"Amateur.Built\"] == \"Yes\"], inplace=True) \n",
    "\n",
    "# Removing any countries outside of the United States because we only want to look at domestic flights\n",
    "df.drop(df.index[df[\"Country\"] != \"United States\"], inplace=True)\n",
    "\n",
    "# Removing any aircrafts that are not categorized under airplane\n",
    "df.drop(df.index[df[\"Aircraft.Category\"] != \"Airplane\"], inplace=True)\n",
    "\n",
    "# Removing any aircrafts that are missing either the make or the model\n",
    "df.drop(df.index[df['Make'].isna()], inplace = True)\n",
    "df.drop(df.index[df['Model'].isna()], inplace =True)"
   ]
  },
  {
   "cell_type": "code",
   "execution_count": 12,
   "metadata": {
    "scrolled": true
   },
   "outputs": [
    {
     "data": {
      "text/plain": [
       "CESSNA               4264\n",
       "PIPER                2494\n",
       "Cessna               2095\n",
       "Piper                1089\n",
       "BEECH                 890\n",
       "                     ... \n",
       "BACH JOSEPH E           1\n",
       "J&J Ultralights         1\n",
       "AIRBORNE                1\n",
       "Ac Mfg & Dev't Co       1\n",
       "BRADSHAW                1\n",
       "Name: Make, Length: 1185, dtype: int64"
      ]
     },
     "execution_count": 12,
     "metadata": {},
     "output_type": "execute_result"
    }
   ],
   "source": [
    "df['Make'].value_counts()"
   ]
  },
  {
   "cell_type": "code",
   "execution_count": 13,
   "metadata": {},
   "outputs": [],
   "source": [
    "######################### which of these are we using? .capitalize() or .upper()###############################"
   ]
  },
  {
   "cell_type": "code",
   "execution_count": 14,
   "metadata": {},
   "outputs": [],
   "source": [
    "# Use the same letter casing to combine Make entries\n",
    "df['Make'] = df['Make'].astype(str)\n",
    "df['Make'] = df['Make'].str.capitalize()"
   ]
  },
  {
   "cell_type": "code",
   "execution_count": 15,
   "metadata": {},
   "outputs": [],
   "source": [
    "df['Model'] = df['Model'].astype(str)\n",
    "df['Model'] = df['Model'].str.upper()"
   ]
  },
  {
   "cell_type": "code",
   "execution_count": 16,
   "metadata": {},
   "outputs": [],
   "source": [
    "#Manual data cleaning to combine airplane makes with different spellings.\n",
    "df[\"Make\"] = df[\"Make\"].replace (\"Air tractor inc\", \"Air tractor\")\n",
    "df[\"Make\"] = df[\"Make\"].replace (\"Air tractor inc.\", \"Air tractor\")\n",
    "df[\"Make\"] = df[\"Make\"].replace (\"Airbus industrie\", \"Airbus\")\n",
    "df[\"Make\"] = df[\"Make\"].replace (\"American aviation\", \"American\")\n",
    "df[\"Make\"] = df[\"Make\"].replace (\"American aviation corp. (aac)\", \"American\")\n",
    "df[\"Make\"] = df[\"Make\"].replace (\"American champion (acac)\", \"American champion\")\n",
    "df[\"Make\"] = df[\"Make\"].replace (\"American champion aircraft)\", \"American champion\")\n",
    "df[\"Make\"] = df[\"Make\"].replace (\"American legend aircraft co\", \"American legend\")\n",
    "df[\"Make\"] = df[\"Make\"].replace (\"Aviat aircraft inc\", \"Aviat\")\n",
    "df[\"Make\"] = df[\"Make\"].replace (\"Aviat inc\", \"Aviat\")\n",
    "df[\"Make\"] = df[\"Make\"].replace (\"Ayres corporation\", \"Ayres\")\n",
    "df[\"Make\"] = df[\"Make\"].replace (\"Boeing stearman\", \"Boeing\")\n",
    "df[\"Make\"] = df[\"Make\"].replace (\"Boeing company\", \"Boeing\")\n",
    "df[\"Make\"] = df[\"Make\"].replace (\"The boeing company\", \"Boeing\")\n",
    "df[\"Make\"] = df[\"Make\"].replace (\"Bombardier, inc.\", \"Bombardier\")\n",
    "df[\"Make\"] = df[\"Make\"].replace (\"Bombardier inc\", \"Bombardier\")\n",
    "df[\"Make\"] = df[\"Make\"].replace (\"Britten-norman\", \"Britten norman\")\n",
    "df[\"Make\"] = df[\"Make\"].replace (\"Cessna aircraft\", \"Cessna\")\n",
    "df[\"Make\"] = df[\"Make\"].replace (\"Cessna aircraft co\", \"Cessna\")\n",
    "df[\"Make\"] = df[\"Make\"].replace (\"Cessna aircraft company\", \"Cessna\")\n",
    "df[\"Make\"] = df[\"Make\"].replace (\"Christen industries inc\", \"Christen industries\")\n",
    "df[\"Make\"] = df[\"Make\"].replace (\"Cirrus design corp.\", \"Cirrus\")\n",
    "df[\"Make\"] = df[\"Make\"].replace (\"Cirrus design corp\", \"Cirrus\")\n",
    "df[\"Make\"] = df[\"Make\"].replace (\"Cirrus design\", \"Cirrus\")\n",
    "df[\"Make\"] = df[\"Make\"].replace (\"Cirrus design corporation\", \"Cirrus\")\n",
    "df[\"Make\"] = df[\"Make\"].replace (\"Cub crafters\", \"Cubcrafters\")\n",
    "df[\"Make\"] = df[\"Make\"].replace (\"Cub crafters inc\", \"Cubcrafters\")\n",
    "df[\"Make\"] = df[\"Make\"].replace (\"Cubcrafters inc\", \"Cubcrafters\")\n",
    "df[\"Make\"] = df[\"Make\"].replace (\"Dassault-breguet\", \"Dassault\")\n",
    "df[\"Make\"] = df[\"Make\"].replace (\"De havilland\", \"Dehavilland\")\n",
    "df[\"Make\"] = df[\"Make\"].replace (\"Diamond aircraft ind gmbh\", \"Diamond\")\n",
    "df[\"Make\"] = df[\"Make\"].replace (\"Diamond aircraft ind inc\", \"Diamond\")\n",
    "df[\"Make\"] = df[\"Make\"].replace (\"Diamond aircraft industries\", \"Diamond\")\n",
    "df[\"Make\"] = df[\"Make\"].replace (\"Embraer-empresa brasileira de\", \"Embraer\")\n",
    "df[\"Make\"] = df[\"Make\"].replace (\"Embraer s a\", \"Embraer\")\n",
    "df[\"Make\"] = df[\"Make\"].replace (\"Ercoupe (eng & research corp.)\", \"Ercoupe\")\n",
    "df[\"Make\"] = df[\"Make\"].replace (\"Flight design gmbh\", \"Flight design\")\n",
    "df[\"Make\"] = df[\"Make\"].replace (\"Gates learjet corp.\", \"Gates lear jet\")\n",
    "df[\"Make\"] = df[\"Make\"].replace (\"Grumman american\", \"Grumman\")\n",
    "df[\"Make\"] = df[\"Make\"].replace (\"Grumman acft eng cor-schweizer\", \"Grumman\")\n",
    "df[\"Make\"] = df[\"Make\"].replace (\"Grumman american avn. corp.\", \"Grumman\")\n",
    "df[\"Make\"] = df[\"Make\"].replace (\"Grumman-schweizer\", \"Grumman\")\n",
    "df[\"Make\"] = df[\"Make\"].replace (\"Gulfstream-schweizer a/c corp\", \"Gulfstream\")\n",
    "df[\"Make\"] = df[\"Make\"].replace (\"Gulfstream-schweizer\", \"Gulfstream\")\n",
    "df[\"Make\"] = df[\"Make\"].replace (\"Gulfstream american corp\", \"Gulfstream\")\n",
    "df[\"Make\"] = df[\"Make\"].replace (\"Gulfstream aerospace\", \"Gulfstream\")\n",
    "df[\"Make\"] = df[\"Make\"].replace (\"Hawker beechcraft\", \"Hawker\")\n",
    "df[\"Make\"] = df[\"Make\"].replace (\"Hawker beechcraft corp\", \"Hawker\")\n",
    "df[\"Make\"] = df[\"Make\"].replace (\"Hawker beechcraft corp.\", \"Hawker\")\n",
    "df[\"Make\"] = df[\"Make\"].replace (\"Hawker beechcraft corporation\", \"Hawker\")\n",
    "df[\"Make\"] = df[\"Make\"].replace (\"Hawker siddeley\", \"Hawker\")\n",
    "df[\"Make\"] = df[\"Make\"].replace (\"Jabiru usa sport aircraft llc\", \"Jabiru\")\n",
    "df[\"Make\"] = df[\"Make\"].replace (\"Lancair company\", \"Lancair\")\n",
    "df[\"Make\"] = df[\"Make\"].replace (\"Learjet inc\", \"Learjet\")\n",
    "df[\"Make\"] = df[\"Make\"].replace (\"Liberty aerospace incorporated\", \"Liberty aerospace inc.\")\n",
    "df[\"Make\"] = df[\"Make\"].replace (\"Mcdonnell douglas aircraft co\", \"Mcdonnell douglas\")\n",
    "df[\"Make\"] = df[\"Make\"].replace (\"Douglas\", \"Mcdonnell douglas\")\n",
    "df[\"Make\"] = df[\"Make\"].replace (\"Lancair company\", \"Lancair\")\n",
    "df[\"Make\"] = df[\"Make\"].replace (\"Mooney aircraft corp.\", \"Mooney\")\n",
    "df[\"Make\"] = df[\"Make\"].replace (\"Mooney airplane co inc\", \"Mooney\")\n",
    "df[\"Make\"] = df[\"Make\"].replace (\"Nanchang china\", \"Nanchang\")\n",
    "df[\"Make\"] = df[\"Make\"].replace (\"Pilatus aircraft ltd\", \"Pilatus\")\n",
    "df[\"Make\"] = df[\"Make\"].replace (\"Piper aircraft inc\", \"Piper\")\n",
    "df[\"Make\"] = df[\"Make\"].replace (\"Piper aircraft corporation\", \"Piper\")\n",
    "df[\"Make\"] = df[\"Make\"].replace (\"Piper aircraft\", \"Piper\")\n",
    "df[\"Make\"] = df[\"Make\"].replace (\"Piper/cub crafters\", \"Piper\")\n",
    "df[\"Make\"] = df[\"Make\"].replace (\"Quest aircraft company llc\", \"Quest\")\n",
    "df[\"Make\"] = df[\"Make\"].replace (\"Raytheon aircraft company\", \"Raytheon\")\n",
    "df[\"Make\"] = df[\"Make\"].replace (\"Raytheon corporate jets\", \"Raytheon\")\n",
    "df[\"Make\"] = df[\"Make\"].replace (\"Remos acft gmbh flugzeugbau\", \"Remos aircraft gmbh\")\n",
    "df[\"Make\"] = df[\"Make\"].replace (\"Rockwell international\", \"Rockwell\")\n",
    "df[\"Make\"] = df[\"Make\"].replace (\"Ryan aeronautical\", \"Ryan\")\n",
    "df[\"Make\"] = df[\"Make\"].replace (\"Schweizer aircraft corp\", \"Schweizer\")\n",
    "df[\"Make\"] = df[\"Make\"].replace (\"Stearman aircraft\", \"Stearman\")\n",
    "df[\"Make\"] = df[\"Make\"].replace (\"Taylorcraft aviation corp\", \"Taylorcraft\")\n",
    "df[\"Make\"] = df[\"Make\"].replace (\"Thrush aircraft inc\", \"Thrush\")\n",
    "df[\"Make\"] = df[\"Make\"].replace (\"Vans aircraft inc\", \"Vans\")\n",
    "df[\"Make\"] = df[\"Make\"].replace (\"Waco classic aircraft\", \"Waco\")\n",
    "df[\"Make\"] = df[\"Make\"].replace (\"Weatherly aviation co inc\", \"Weatherly\")"
   ]
  },
  {
   "cell_type": "code",
   "execution_count": 17,
   "metadata": {
    "scrolled": true
   },
   "outputs": [
    {
     "data": {
      "text/plain": [
       "Cessna                     6384\n",
       "Piper                      3614\n",
       "Beech                      1253\n",
       "Boeing                      408\n",
       "Air tractor                 395\n",
       "                           ... \n",
       "Stol aircraft corp            1\n",
       "Ray e roberts                 1\n",
       "Piper / laudeman              1\n",
       "Quad city aircraft corp       1\n",
       "Bailey n moyes                1\n",
       "Name: Make, Length: 898, dtype: int64"
      ]
     },
     "execution_count": 17,
     "metadata": {},
     "output_type": "execute_result"
    }
   ],
   "source": [
    "df['Make'].value_counts()"
   ]
  },
  {
   "cell_type": "code",
   "execution_count": 18,
   "metadata": {},
   "outputs": [],
   "source": [
    "#Creation of a combined make and model column\n",
    "df['Make.Model'] = df['Make']+ ' ' + df['Model']"
   ]
  },
  {
   "cell_type": "code",
   "execution_count": 19,
   "metadata": {
    "scrolled": true
   },
   "outputs": [
    {
     "data": {
      "text/plain": [
       "Cessna 172          672\n",
       "Cessna 152          290\n",
       "Cessna 172S         272\n",
       "Cessna 182          244\n",
       "Cessna 172N         237\n",
       "Piper PA28          232\n",
       "Cirrus SR22         220\n",
       "Cessna 180          211\n",
       "Cessna 172M         174\n",
       "Piper PA-18-150     173\n",
       "Piper PA-28-140     154\n",
       "Beech A36           153\n",
       "Cessna 150          146\n",
       "Cessna 172P         140\n",
       "Cessna 140          114\n",
       "Cessna 172R         107\n",
       "Cessna 170B         106\n",
       "Piper PA-28-180     102\n",
       "Piper PA-28-161     101\n",
       "Piper PA-28-181      89\n",
       "Cessna A185F         89\n",
       "Mooney M20J          89\n",
       "Aeronca 7AC          89\n",
       "Piper PA18           83\n",
       "Piper PA-18          78\n",
       "Cessna 182P          76\n",
       "Cessna 177           73\n",
       "Cessna 170           73\n",
       "Piper PA-12          72\n",
       "Cessna 150L          72\n",
       "Cirrus SR20          70\n",
       "Cessna 210           69\n",
       "Cessna 150M          66\n",
       "Piper PA-22-150      65\n",
       "Cessna A185          63\n",
       "Cessna 208B          61\n",
       "Luscombe 8A          61\n",
       "Mooney M20C          60\n",
       "Cessna 120           59\n",
       "Piper J3C-65         59\n",
       "Piper PA 18-150      58\n",
       "Beech 58             57\n",
       "Cessna 182Q          56\n",
       "Piper PA28R          55\n",
       "Piper PA-24-250      55\n",
       "Piper PA-30          55\n",
       "Piper PA32           54\n",
       "Piper PA-28R-200     54\n",
       "Cessna 172K          53\n",
       "Stinson 108          53\n",
       "Name: Make.Model, dtype: int64"
      ]
     },
     "execution_count": 19,
     "metadata": {},
     "output_type": "execute_result"
    }
   ],
   "source": [
    "# Review the top 50 makes and models\n",
    "df['Make.Model'].value_counts()[:50]"
   ]
  },
  {
   "cell_type": "code",
   "execution_count": 20,
   "metadata": {},
   "outputs": [
    {
     "data": {
      "text/plain": [
       "0.0     12948\n",
       "1.0      1366\n",
       "2.0       759\n",
       "3.0       226\n",
       "4.0       133\n",
       "5.0        44\n",
       "6.0        20\n",
       "7.0         8\n",
       "10.0        5\n",
       "9.0         3\n",
       "8.0         3\n",
       "11.0        1\n",
       "14.0        1\n",
       "49.0        1\n",
       "13.0        1\n",
       "65.0        1\n",
       "Name: Total.Fatal.Injuries, dtype: int64"
      ]
     },
     "execution_count": 20,
     "metadata": {},
     "output_type": "execute_result"
    }
   ],
   "source": [
    "df['Total.Fatal.Injuries'].value_counts()"
   ]
  },
  {
   "cell_type": "code",
   "execution_count": 21,
   "metadata": {},
   "outputs": [],
   "source": [
    "# This creates a new column with \"yes\" for if the make is boeing or airbus and \"no\" for everything else.\n",
    "df[\"Commercial\"] = \"No\"\n",
    "df.loc[df[\"Make\"].isin([\"Boeing\", \"Airbus\"]), \"Commercial\"] = \"Yes\""
   ]
  },
  {
   "cell_type": "code",
   "execution_count": 22,
   "metadata": {},
   "outputs": [],
   "source": [
    "#df[\"Fatal\"] = pd.notna(df[\"Total.Fatal.Injuries\"]).astype(int)\n",
    "df[\"Fatal\"] = np.where((df[\"Total.Fatal.Injuries\"].isna()) | (df[\"Total.Fatal.Injuries\"] == 0), 0, 1)"
   ]
  },
  {
   "cell_type": "code",
   "execution_count": 23,
   "metadata": {},
   "outputs": [
    {
     "data": {
      "text/plain": [
       "0    15445\n",
       "1     2572\n",
       "Name: Fatal, dtype: int64"
      ]
     },
     "execution_count": 23,
     "metadata": {},
     "output_type": "execute_result"
    }
   ],
   "source": [
    "df['Fatal'].value_counts()"
   ]
  },
  {
   "cell_type": "code",
   "execution_count": 24,
   "metadata": {
    "scrolled": true
   },
   "outputs": [
    {
     "data": {
      "text/html": [
       "<div>\n",
       "<style scoped>\n",
       "    .dataframe tbody tr th:only-of-type {\n",
       "        vertical-align: middle;\n",
       "    }\n",
       "\n",
       "    .dataframe tbody tr th {\n",
       "        vertical-align: top;\n",
       "    }\n",
       "\n",
       "    .dataframe thead th {\n",
       "        text-align: right;\n",
       "    }\n",
       "</style>\n",
       "<table border=\"1\" class=\"dataframe\">\n",
       "  <thead>\n",
       "    <tr style=\"text-align: right;\">\n",
       "      <th></th>\n",
       "      <th>Event.Id</th>\n",
       "      <th>Investigation.Type</th>\n",
       "      <th>Accident.Number</th>\n",
       "      <th>Event.Date</th>\n",
       "      <th>Country</th>\n",
       "      <th>Injury.Severity</th>\n",
       "      <th>Aircraft.damage</th>\n",
       "      <th>Aircraft.Category</th>\n",
       "      <th>Make</th>\n",
       "      <th>Model</th>\n",
       "      <th>...</th>\n",
       "      <th>Purpose.of.flight</th>\n",
       "      <th>Total.Fatal.Injuries</th>\n",
       "      <th>Total.Serious.Injuries</th>\n",
       "      <th>Total.Minor.Injuries</th>\n",
       "      <th>Total.Uninjured</th>\n",
       "      <th>Weather.Condition</th>\n",
       "      <th>Event.Year</th>\n",
       "      <th>Make.Model</th>\n",
       "      <th>Commercial</th>\n",
       "      <th>Fatal</th>\n",
       "    </tr>\n",
       "  </thead>\n",
       "  <tbody>\n",
       "    <tr>\n",
       "      <th>47864</th>\n",
       "      <td>20001212X20487</td>\n",
       "      <td>Accident</td>\n",
       "      <td>FTW00FA083B</td>\n",
       "      <td>2000-02-16</td>\n",
       "      <td>United States</td>\n",
       "      <td>Fatal(1)</td>\n",
       "      <td>Substantial</td>\n",
       "      <td>Airplane</td>\n",
       "      <td>Cessna</td>\n",
       "      <td>208B</td>\n",
       "      <td>...</td>\n",
       "      <td>Unknown</td>\n",
       "      <td>1.0</td>\n",
       "      <td>NaN</td>\n",
       "      <td>NaN</td>\n",
       "      <td>1.0</td>\n",
       "      <td>VMC</td>\n",
       "      <td>2000</td>\n",
       "      <td>Cessna 208B</td>\n",
       "      <td>No</td>\n",
       "      <td>1</td>\n",
       "    </tr>\n",
       "    <tr>\n",
       "      <th>47869</th>\n",
       "      <td>20001212X20487</td>\n",
       "      <td>Accident</td>\n",
       "      <td>FTW00FA083A</td>\n",
       "      <td>2000-02-16</td>\n",
       "      <td>United States</td>\n",
       "      <td>Fatal(1)</td>\n",
       "      <td>Destroyed</td>\n",
       "      <td>Airplane</td>\n",
       "      <td>Cessna</td>\n",
       "      <td>182M</td>\n",
       "      <td>...</td>\n",
       "      <td>Personal</td>\n",
       "      <td>1.0</td>\n",
       "      <td>NaN</td>\n",
       "      <td>NaN</td>\n",
       "      <td>1.0</td>\n",
       "      <td>VMC</td>\n",
       "      <td>2000</td>\n",
       "      <td>Cessna 182M</td>\n",
       "      <td>No</td>\n",
       "      <td>1</td>\n",
       "    </tr>\n",
       "    <tr>\n",
       "      <th>47870</th>\n",
       "      <td>20001212X20472</td>\n",
       "      <td>Accident</td>\n",
       "      <td>DCA00MA026</td>\n",
       "      <td>2000-02-16</td>\n",
       "      <td>United States</td>\n",
       "      <td>Fatal(3)</td>\n",
       "      <td>Destroyed</td>\n",
       "      <td>Airplane</td>\n",
       "      <td>Mcdonnell douglas</td>\n",
       "      <td>DC-8-71F</td>\n",
       "      <td>...</td>\n",
       "      <td>NaN</td>\n",
       "      <td>3.0</td>\n",
       "      <td>NaN</td>\n",
       "      <td>NaN</td>\n",
       "      <td>NaN</td>\n",
       "      <td>VMC</td>\n",
       "      <td>2000</td>\n",
       "      <td>Mcdonnell douglas DC-8-71F</td>\n",
       "      <td>No</td>\n",
       "      <td>1</td>\n",
       "    </tr>\n",
       "    <tr>\n",
       "      <th>47942</th>\n",
       "      <td>20001212X20606</td>\n",
       "      <td>Accident</td>\n",
       "      <td>DCA00MA030</td>\n",
       "      <td>2000-03-05</td>\n",
       "      <td>United States</td>\n",
       "      <td>Non-Fatal</td>\n",
       "      <td>Destroyed</td>\n",
       "      <td>Airplane</td>\n",
       "      <td>Boeing</td>\n",
       "      <td>737-300</td>\n",
       "      <td>...</td>\n",
       "      <td>Unknown</td>\n",
       "      <td>NaN</td>\n",
       "      <td>2.0</td>\n",
       "      <td>42.0</td>\n",
       "      <td>98.0</td>\n",
       "      <td>VMC</td>\n",
       "      <td>2000</td>\n",
       "      <td>Boeing 737-300</td>\n",
       "      <td>Yes</td>\n",
       "      <td>0</td>\n",
       "    </tr>\n",
       "    <tr>\n",
       "      <th>48128</th>\n",
       "      <td>20001212X20873</td>\n",
       "      <td>Accident</td>\n",
       "      <td>MIA00FA129</td>\n",
       "      <td>2000-04-05</td>\n",
       "      <td>United States</td>\n",
       "      <td>Fatal(3)</td>\n",
       "      <td>Destroyed</td>\n",
       "      <td>Airplane</td>\n",
       "      <td>Learjet</td>\n",
       "      <td>35A</td>\n",
       "      <td>...</td>\n",
       "      <td>Instructional</td>\n",
       "      <td>3.0</td>\n",
       "      <td>NaN</td>\n",
       "      <td>NaN</td>\n",
       "      <td>NaN</td>\n",
       "      <td>VMC</td>\n",
       "      <td>2000</td>\n",
       "      <td>Learjet 35A</td>\n",
       "      <td>No</td>\n",
       "      <td>1</td>\n",
       "    </tr>\n",
       "  </tbody>\n",
       "</table>\n",
       "<p>5 rows × 21 columns</p>\n",
       "</div>"
      ],
      "text/plain": [
       "             Event.Id Investigation.Type Accident.Number  Event.Date  \\\n",
       "47864  20001212X20487           Accident     FTW00FA083B  2000-02-16   \n",
       "47869  20001212X20487           Accident     FTW00FA083A  2000-02-16   \n",
       "47870  20001212X20472           Accident      DCA00MA026  2000-02-16   \n",
       "47942  20001212X20606           Accident      DCA00MA030  2000-03-05   \n",
       "48128  20001212X20873           Accident      MIA00FA129  2000-04-05   \n",
       "\n",
       "             Country Injury.Severity Aircraft.damage Aircraft.Category  \\\n",
       "47864  United States        Fatal(1)     Substantial          Airplane   \n",
       "47869  United States        Fatal(1)       Destroyed          Airplane   \n",
       "47870  United States        Fatal(3)       Destroyed          Airplane   \n",
       "47942  United States       Non-Fatal       Destroyed          Airplane   \n",
       "48128  United States        Fatal(3)       Destroyed          Airplane   \n",
       "\n",
       "                    Make     Model  ... Purpose.of.flight  \\\n",
       "47864             Cessna      208B  ...           Unknown   \n",
       "47869             Cessna      182M  ...          Personal   \n",
       "47870  Mcdonnell douglas  DC-8-71F  ...               NaN   \n",
       "47942             Boeing   737-300  ...           Unknown   \n",
       "48128            Learjet       35A  ...     Instructional   \n",
       "\n",
       "      Total.Fatal.Injuries  Total.Serious.Injuries  Total.Minor.Injuries  \\\n",
       "47864                  1.0                     NaN                   NaN   \n",
       "47869                  1.0                     NaN                   NaN   \n",
       "47870                  3.0                     NaN                   NaN   \n",
       "47942                  NaN                     2.0                  42.0   \n",
       "48128                  3.0                     NaN                   NaN   \n",
       "\n",
       "       Total.Uninjured  Weather.Condition Event.Year  \\\n",
       "47864              1.0                VMC       2000   \n",
       "47869              1.0                VMC       2000   \n",
       "47870              NaN                VMC       2000   \n",
       "47942             98.0                VMC       2000   \n",
       "48128              NaN                VMC       2000   \n",
       "\n",
       "                       Make.Model Commercial Fatal  \n",
       "47864                 Cessna 208B         No     1  \n",
       "47869                 Cessna 182M         No     1  \n",
       "47870  Mcdonnell douglas DC-8-71F         No     1  \n",
       "47942              Boeing 737-300        Yes     0  \n",
       "48128                 Learjet 35A         No     1  \n",
       "\n",
       "[5 rows x 21 columns]"
      ]
     },
     "execution_count": 24,
     "metadata": {},
     "output_type": "execute_result"
    }
   ],
   "source": [
    "df.head()"
   ]
  },
  {
   "cell_type": "code",
   "execution_count": 25,
   "metadata": {},
   "outputs": [
    {
     "data": {
      "text/plain": [
       "Cessna                            6384\n",
       "Piper                             3614\n",
       "Beech                             1253\n",
       "Boeing                             408\n",
       "Air tractor                        395\n",
       "Mooney                             379\n",
       "Cirrus                             330\n",
       "Grumman                            276\n",
       "Bellanca                           216\n",
       "Maule                              207\n",
       "Aeronca                            199\n",
       "Aviat                              154\n",
       "Champion                           153\n",
       "Dehavilland                        144\n",
       "Luscombe                           140\n",
       "Diamond                            130\n",
       "Stinson                            129\n",
       "Airbus                             109\n",
       "North american                     101\n",
       "Taylorcraft                         96\n",
       "Embraer                             95\n",
       "Bombardier                          94\n",
       "Rockwell                            91\n",
       "Ayres                               81\n",
       "Aero commander                      79\n",
       "Flight design                       76\n",
       "Raytheon                            74\n",
       "Mcdonnell douglas                   72\n",
       "Cubcrafters                         65\n",
       "Ercoupe                             65\n",
       "Socata                              59\n",
       "American champion aircraft          52\n",
       "Waco                                48\n",
       "Gulfstream                          43\n",
       "American                            42\n",
       "Hawker                              39\n",
       "Costruzioni aeronautiche tecna      33\n",
       "Schweizer                           31\n",
       "Learjet                             31\n",
       "Ryan                                30\n",
       "Name: Make, dtype: int64"
      ]
     },
     "execution_count": 25,
     "metadata": {},
     "output_type": "execute_result"
    }
   ],
   "source": [
    "df['Make'].value_counts()[:40]"
   ]
  },
  {
   "cell_type": "code",
   "execution_count": 26,
   "metadata": {},
   "outputs": [
    {
     "name": "stdout",
     "output_type": "stream",
     "text": [
      "Int64Index([47942, 48402, 49749, 49879, 50033, 51485, 54404, 54831, 55162,\n",
      "            55630,\n",
      "            ...\n",
      "            88316, 88381, 88386, 88387, 88415, 88430, 88673, 88723, 88772,\n",
      "            88777],\n",
      "           dtype='int64', length=408)\n"
     ]
    }
   ],
   "source": [
    "Boeing_flights = df.loc[df[\"Make\"] == \"Boeing\"].index\n",
    "print(Boeing_flights)\n"
   ]
  },
  {
   "cell_type": "code",
   "execution_count": 27,
   "metadata": {},
   "outputs": [
    {
     "data": {
      "text/plain": [
       "No     17500\n",
       "Yes      517\n",
       "Name: Commercial, dtype: int64"
      ]
     },
     "execution_count": 27,
     "metadata": {},
     "output_type": "execute_result"
    }
   ],
   "source": [
    "df['Commercial'].value_counts()"
   ]
  },
  {
   "cell_type": "code",
   "execution_count": 28,
   "metadata": {},
   "outputs": [
    {
     "name": "stdout",
     "output_type": "stream",
     "text": [
      "Make.Model\n",
      "Cirrus SR22         111.0\n",
      "Cessna 172          103.0\n",
      "Beech A36            91.0\n",
      "Boeing 767-200ER     65.0\n",
      "Cessna 182           63.0\n",
      "Name: Total.Fatal.Injuries, dtype: float64\n"
     ]
    }
   ],
   "source": [
    "#This is grouping our make.model column with the total.fatal.injuries column. \n",
    "#It is also declaring a variable to be equal to the make.models with the top 5 most fatalities\n",
    "MakeModel_fatalities = df.groupby('Make.Model')['Total.Fatal.Injuries'].sum()\n",
    "\n",
    "top_5_MakeModel_by_fatalities = MakeModel_fatalities.sort_values(ascending=False).head(5)\n",
    "\n",
    "print(top_5_MakeModel_by_fatalities)"
   ]
  },
  {
   "cell_type": "code",
   "execution_count": 29,
   "metadata": {},
   "outputs": [],
   "source": [
    "#This is declaring variables which will be used for the bar graph axis below after grouping them above. \n",
    "make_model_names = top_5_MakeModel_by_fatalities.index\n",
    "fatal_injuries = top_5_MakeModel_by_fatalities.values"
   ]
  },
  {
   "cell_type": "code",
   "execution_count": 30,
   "metadata": {},
   "outputs": [
    {
     "data": {
      "image/png": "[encoded data removed]",
      "text/plain": [
       "<Figure size 864x432 with 1 Axes>"
      ]
     },
     "metadata": {
      "needs_background": "light"
     },
     "output_type": "display_data"
    }
   ],
   "source": [
    "#Bar Chart Showing the Top 5 Make.Models by total Fatalities (All are commercial)\n",
    "plt.figure(figsize=(12, 6))\n",
    "plt.bar(make_model_names, fatal_injuries, color='skyblue', edgecolor='black', alpha=0.7)\n",
    "plt.xlabel('Make and Model')\n",
    "plt.ylabel('Total Fatal Injuries')\n",
    "plt.title('Top 5 Aircraft Makes and Models by Total Fatal Injuries')\n",
    "plt.xticks(rotation=0, ha='center');"
   ]
  },
  {
   "cell_type": "code",
   "execution_count": 31,
   "metadata": {},
   "outputs": [
    {
     "data": {
      "text/plain": [
       "Make\n",
       "Airbus     1\n",
       "Boeing    14\n",
       "Name: Fatal, dtype: int32"
      ]
     },
     "execution_count": 31,
     "metadata": {},
     "output_type": "execute_result"
    }
   ],
   "source": [
    "Commercial_Flights = df[df['Commercial'] == 'Yes']\n",
    "Totaled_Commercial_Fatalities_by_Make = Commercial_Flights.groupby('Make')['Fatal'].sum()\n",
    "Totaled_Commercial_Fatalities_by_Make.tail(5)\n",
    "#This groups the sum of Fatal values equal to 1 based on the Make with a Commercial value of Yes "
   ]
  },
  {
   "cell_type": "code",
   "execution_count": 32,
   "metadata": {},
   "outputs": [
    {
     "name": "stdout",
     "output_type": "stream",
     "text": [
      "0.03431372549019608\n",
      "0.009174311926605505\n"
     ]
    }
   ],
   "source": [
    "Boeing_Occurances = 408\n",
    "Boeing_Fatality_Occurance = 14\n",
    "Airbus_Occurances = 109\n",
    "Airbus_Fatality_Occurances = 1\n",
    "\n",
    "Boeing_Average_Fatality_Occurance = Boeing_Fatality_Occurance/Boeing_Occurances\n",
    "Airbus_Average_Fatality_Occurance = Airbus_Fatality_Occurances/Airbus_Occurances\n",
    "\n",
    "print(Boeing_Average_Fatality_Occurance)\n",
    "print(Airbus_Average_Fatality_Occurance)"
   ]
  },
  {
   "cell_type": "code",
   "execution_count": 33,
   "metadata": {},
   "outputs": [
    {
     "data": {
      "image/png": "[encoded data removed]",
      "text/plain": [
       "<Figure size 576x432 with 1 Axes>"
      ]
     },
     "metadata": {
      "needs_background": "light"
     },
     "output_type": "display_data"
    }
   ],
   "source": [
    "#Hard coding Airbus vs Boeing for the visual\n",
    "makes = [\"Airbus\", \"Boeing\"]\n",
    "totaled_fatalities_occurence = [1, 14]\n",
    "\n",
    "plt.figure(figsize=(8, 6))\n",
    "plt.bar(makes, totaled_fatalities_occurence, color=[\"rosybrown\", \"brown\"], edgecolor='black')\n",
    "plt.xlabel(\"Airplane Makes\", fontsize=16)\n",
    "plt.ylabel(\"Total Fatalities\", fontsize=16)\n",
    "plt.title(\"Total Fatalities for Commercial Flights\", fontsize=16)\n",
    "plt.ylim(0, 18)\n",
    "plt.yticks(range(0, 18, 2))\n",
    "plt.grid(axis='y', linestyle='--');"
   ]
  },
  {
   "cell_type": "code",
   "execution_count": 34,
   "metadata": {},
   "outputs": [
    {
     "data": {
      "image/png": "[encoded data removed]",
      "text/plain": [
       "<Figure size 720x720 with 1 Axes>"
      ]
     },
     "metadata": {
      "needs_background": "light"
     },
     "output_type": "display_data"
    }
   ],
   "source": [
    "# We can see above that boeing has a lot more occurances of fatal accidents than Airbus. \n",
    "# But what is important is comparing the occurances of fatal accidents by the sample size. \n",
    "makes = [\"Airbus\", \"Boeing\"]\n",
    "fatalities_occurance_averages = [Airbus_Average_Fatality_Occurance*100, Boeing_Average_Fatality_Occurance*100]\n",
    "\n",
    "plt.figure(figsize=(10, 10))\n",
    "plt.bar(makes, fatalities_occurance_averages, color=[\"rosybrown\", \"brown\"], edgecolor='black')\n",
    "plt.xlabel(\"Airplane Makes\", fontsize=16)\n",
    "plt.ylabel(\"Percent Fatalities\", fontsize=16)\n",
    "plt.title(\"Percent of Commercial Flight Accidents Resulting in at least one Fatality\", fontsize=16)\n",
    "plt.ylim(0, 5)\n",
    "plt.yticks(range(0, 5, 1))\n",
    "plt.tick_params(axis='x', labelsize=15)\n",
    "plt.grid(axis='y', linestyle='--');"
   ]
  },
  {
   "cell_type": "code",
   "execution_count": 35,
   "metadata": {},
   "outputs": [],
   "source": [
    "#It is difficult to see, but Airbus at 9% and Boeing is at 8.8%  \n",
    "#Therefore we can recommend Boeing as the Safest Commercial Maker adjusted for the limitations in the dataset."
   ]
  },
  {
   "cell_type": "code",
   "execution_count": 36,
   "metadata": {},
   "outputs": [],
   "source": [
    "Private_Flights_Minor_Damage = df[(df['Commercial'] == 'No') & (df['Aircraft.damage'] == 'Minor')]\n",
    "Private_Flights_Minor_Damage_MostCommon = Private_Flights_Minor_Damage['Make'].value_counts().nlargest(20)\n",
    "#This is giving us the top 20 most commonly occuring Makes by Minor Damage so we can get the average. "
   ]
  },
  {
   "cell_type": "code",
   "execution_count": 37,
   "metadata": {},
   "outputs": [
    {
     "data": {
      "text/plain": [
       "Cessna               59\n",
       "Piper                27\n",
       "Bombardier           21\n",
       "Beech                18\n",
       "Embraer              16\n",
       "Mcdonnell douglas    14\n",
       "Cirrus               11\n",
       "Raytheon              8\n",
       "Dehavilland           6\n",
       "North american        4\n",
       "Diamond               4\n",
       "Taylorcraft           3\n",
       "Gulfstream            3\n",
       "Hawker                3\n",
       "Flight design         3\n",
       "Mooney                3\n",
       "Aviat                 3\n",
       "Air tractor           3\n",
       "Mitsubishi            2\n",
       "Great lakes           2\n",
       "Name: Make, dtype: int64"
      ]
     },
     "execution_count": 37,
     "metadata": {},
     "output_type": "execute_result"
    }
   ],
   "source": [
    "Private_Flights_Minor_Damage_MostCommon\n",
    "#As we can see below Cessna has 59 occurences, Piper has 27 occurences, Bombardier has 21 occurences"
   ]
  },
  {
   "cell_type": "code",
   "execution_count": 38,
   "metadata": {},
   "outputs": [
    {
     "name": "stdout",
     "output_type": "stream",
     "text": [
      "0.9241854636591478\n",
      "0.7470946319867183\n",
      "22.340425531914892\n"
     ]
    }
   ],
   "source": [
    "#Cessna occurs 7088 \n",
    "#Piper occurs 3950 \n",
    "#Bombardier occurs 123\n",
    "#We can find average occurance of minor damages by accidents\n",
    "Cessna = (59/6384) * 100\n",
    "Piper = (27/3614) * 100\n",
    "Bombardier = (21/94) * 100\n",
    "\n",
    "\n",
    "print(Cessna)\n",
    "print(Piper)\n",
    "print(Bombardier)"
   ]
  },
  {
   "cell_type": "code",
   "execution_count": 39,
   "metadata": {},
   "outputs": [],
   "source": [
    "Private_Flights_Destroyed_Damage = df[(df['Commercial'] == 'No') & (df['Aircraft.damage'] == 'Destroyed')]\n",
    "Private_Flights_Destroyed_MostCommon = Private_Flights_Destroyed_Damage['Make'].value_counts().nlargest(40)"
   ]
  },
  {
   "cell_type": "code",
   "execution_count": 40,
   "metadata": {},
   "outputs": [
    {
     "data": {
      "text/plain": [
       "Substantial    15770\n",
       "Destroyed       1418\n",
       "Minor            362\n",
       "Unknown           40\n",
       "Name: Aircraft.damage, dtype: int64"
      ]
     },
     "execution_count": 40,
     "metadata": {},
     "output_type": "execute_result"
    }
   ],
   "source": [
    "df[\"Aircraft.damage\"].value_counts()"
   ]
  },
  {
   "cell_type": "code",
   "execution_count": 41,
   "metadata": {},
   "outputs": [
    {
     "data": {
      "text/plain": [
       "Cessna                        401\n",
       "Piper                         297\n",
       "Beech                         169\n",
       "Cirrus                         53\n",
       "Air tractor                    44\n",
       "Mooney                         37\n",
       "Grumman                        34\n",
       "North american                 15\n",
       "Raytheon                       14\n",
       "Dehavilland                    11\n",
       "Rockwell                       11\n",
       "Hawker                         11\n",
       "Champion                       10\n",
       "Bellanca                       10\n",
       "Socata                          9\n",
       "Aviat                           9\n",
       "Ayres                           8\n",
       "Maule                           7\n",
       "Mitsubishi                      7\n",
       "Aeronca                         7\n",
       "Aero commander                  6\n",
       "Gulfstream                      6\n",
       "Smith                           6\n",
       "Flight design                   6\n",
       "Diamond                         6\n",
       "American                        5\n",
       "Learjet                         5\n",
       "Pilatus                         5\n",
       "Columbia aircraft mfg           4\n",
       "Mcdonnell douglas               4\n",
       "Aero vodochody                  4\n",
       "Nanchang                        3\n",
       "Weatherly                       3\n",
       "Stinson                         3\n",
       "Extra flugzeugbau gmbh          3\n",
       "Convair                         3\n",
       "Lancair                         3\n",
       "Embraer                         3\n",
       "Israel aircraft industries      3\n",
       "General atomics                 3\n",
       "Name: Make, dtype: int64"
      ]
     },
     "execution_count": 41,
     "metadata": {},
     "output_type": "execute_result"
    }
   ],
   "source": [
    "Private_Flights_Destroyed_MostCommon"
   ]
  },
  {
   "cell_type": "code",
   "execution_count": 42,
   "metadata": {},
   "outputs": [
    {
     "data": {
      "text/plain": [
       "2"
      ]
     },
     "execution_count": 42,
     "metadata": {},
     "output_type": "execute_result"
    }
   ],
   "source": [
    "#This is going to look up Bombardier directly\n",
    "Bombardier_Destroyed = df[(df['Make'] == 'Bombardier') & (df['Aircraft.damage'] == 'Destroyed') & (df['Commercial'] == 'No')]\n",
    "Total_Bomb_Destroyed = len(Bombardier_Destroyed)\n",
    "Total_Bomb_Destroyed"
   ]
  },
  {
   "cell_type": "code",
   "execution_count": 43,
   "metadata": {},
   "outputs": [
    {
     "data": {
      "image/png": "[encoded data removed]",
      "text/plain": [
       "<Figure size 720x720 with 1 Axes>"
      ]
     },
     "metadata": {
      "needs_background": "light"
     },
     "output_type": "display_data"
    }
   ],
   "source": [
    "#Since Embraer and Mcdonnel have less than 200 entries in the data set lets only using Cessna, Piper, and Beech\n",
    "makes = [\"Cessna\", \"Piper\", \"Bombardier\"]\n",
    "minor_dmg_occurence_averages = [Cessna, Piper, Bombardier]\n",
    "\n",
    "plt.figure(figsize=(10, 10))\n",
    "plt.bar(makes, minor_dmg_occurence_averages, color=[\"lightsteelblue\", \"steelblue\", \"darkslateblue\"], edgecolor='black')\n",
    "plt.xlabel(\"Airplane Makes\", fontsize=14)\n",
    "plt.ylabel(\"Percent of Minor Damages\", fontsize=14)\n",
    "plt.title(\"Percent of Private Flight Accidents Resulting in Minor Damages\",fontsize=16)\n",
    "plt.ylim(0, 25)\n",
    "plt.yticks(range(0, 25, 2))\n",
    "plt.grid(axis='y', linestyle='--');"
   ]
  },
  {
   "cell_type": "code",
   "execution_count": 44,
   "metadata": {},
   "outputs": [
    {
     "name": "stdout",
     "output_type": "stream",
     "text": [
      "6.281328320802006\n",
      "8.2180409518539\n",
      "2.127659574468085\n"
     ]
    }
   ],
   "source": [
    "#now I need to calculate the averages of Destroyed data occurence\n",
    "Cessna_Destroyed = (401/6384)*100\n",
    "Piper_Destroyed = (297/3614)*100\n",
    "Bombardier_Destroyed = (2/94)*100\n",
    "\n",
    "print(Cessna_Destroyed)\n",
    "print(Piper_Destroyed)\n",
    "print(Bombardier_Destroyed)\n",
    "\n",
    "#I notice that Cessna has the lowest average for destroyed damage types and the second highest "
   ]
  },
  {
   "cell_type": "code",
   "execution_count": 45,
   "metadata": {},
   "outputs": [
    {
     "data": {
      "image/png": "[encoded data removed]",
      "text/plain": [
       "<Figure size 720x720 with 1 Axes>"
      ]
     },
     "metadata": {
      "needs_background": "light"
     },
     "output_type": "display_data"
    }
   ],
   "source": [
    "makes = [\"Piper\", \"Cessna\", \"Bombardier\"]\n",
    "destroyed_dmg_occurence_averages = [Piper_Destroyed, Cessna_Destroyed, Bombardier_Destroyed]\n",
    "\n",
    "plt.figure(figsize=(10, 10))\n",
    "plt.bar(makes, destroyed_dmg_occurence_averages, color=[\"lightsteelblue\", \"steelblue\", \"darkslateblue\"], edgecolor='black')\n",
    "plt.xlabel(\"Airplane Makes\", fontsize=16)\n",
    "plt.ylabel(\"Percent Destroyed\", fontsize=16)\n",
    "plt.title(\"Percent of Private Flight Accidents Resulting in Airplane Destruction\", fontsize=16)\n",
    "plt.ylim(0, 10)\n",
    "plt.yticks(range(0, 10, 1))\n",
    "plt.tick_params(axis='x', labelsize=15)\n",
    "plt.grid(axis='y', linestyle='--');"
   ]
  },
  {
   "cell_type": "code",
   "execution_count": 46,
   "metadata": {},
   "outputs": [
    {
     "data": {
      "text/plain": [
       "Boeing    69\n",
       "Airbus    33\n",
       "Name: Make, dtype: int64"
      ]
     },
     "execution_count": 46,
     "metadata": {},
     "output_type": "execute_result"
    }
   ],
   "source": [
    "#Now we gotta compared the Avearges of Minor Damage and Destroyed for Commercial Flights\n",
    "Commercial_Flights_Minor_Damage = df[(df['Commercial'] == 'Yes') & (df['Aircraft.damage'] == 'Minor')]\n",
    "Commercial_Flights_Minor_Damage_Totaled = Commercial_Flights_Minor_Damage['Make'].value_counts().nlargest()\n",
    "Commercial_Flights_Minor_Damage_Totaled"
   ]
  },
  {
   "cell_type": "code",
   "execution_count": 47,
   "metadata": {},
   "outputs": [
    {
     "name": "stdout",
     "output_type": "stream",
     "text": [
      "5.679012345679013\n",
      "13.524590163934427\n"
     ]
    }
   ],
   "source": [
    "#Boeing has 1215 occurences in the filtered data set and 39 of those had minor damages\n",
    "#Airbus has 244 occurences in the filtered data set and 6 of those had minor damages\n",
    "#Lets find the averages\n",
    "Boeing_Minor = (69/1215)*100\n",
    "Airbus_Minor = (33/244)*100\n",
    "\n",
    "print(Boeing_Minor)\n",
    "print(Airbus_Minor)"
   ]
  },
  {
   "cell_type": "code",
   "execution_count": 48,
   "metadata": {},
   "outputs": [
    {
     "data": {
      "image/png": "[encoded data removed]",
      "text/plain": [
       "<Figure size 720x720 with 1 Axes>"
      ]
     },
     "metadata": {
      "needs_background": "light"
     },
     "output_type": "display_data"
    }
   ],
   "source": [
    "makes = [\"Airbus\", \"Boeing\"]\n",
    "Commercial_MinorDmg_occurance_averages = [Airbus_Minor, Boeing_Minor]\n",
    "plt.figure(figsize=(10, 10))\n",
    "plt.bar(makes, Commercial_MinorDmg_occurance_averages, color=[\"rosybrown\", \"brown\"], edgecolor='black')\n",
    "plt.xlabel(\"Airplane Makes\", fontsize=14)\n",
    "plt.ylabel(\"Percent of Minor Damages\", fontsize=14)\n",
    "plt.title(\"Percentage of Commercial Flights Resulting in Minor Damages\", fontsize=16)\n",
    "plt.ylim(0, 15)\n",
    "plt.yticks(range(0, 15, 1))\n",
    "plt.grid(axis='y', linestyle='--');"
   ]
  },
  {
   "cell_type": "code",
   "execution_count": 49,
   "metadata": {},
   "outputs": [
    {
     "data": {
      "text/plain": [
       "Boeing    10\n",
       "Airbus     1\n",
       "Name: Make, dtype: int64"
      ]
     },
     "execution_count": 49,
     "metadata": {},
     "output_type": "execute_result"
    }
   ],
   "source": [
    "Commercial_Flights_Destroyed_Damage = df[(df['Commercial'] == 'Yes') & (df['Aircraft.damage'] == 'Destroyed')]\n",
    "Commercial_Flights_Destroyed_Damage_Totaled = Commercial_Flights_Destroyed_Damage['Make'].value_counts().nlargest()\n",
    "Commercial_Flights_Destroyed_Damage_Totaled"
   ]
  },
  {
   "cell_type": "code",
   "execution_count": 50,
   "metadata": {},
   "outputs": [
    {
     "name": "stdout",
     "output_type": "stream",
     "text": [
      "0.823045267489712\n"
     ]
    }
   ],
   "source": [
    "#As we can see airbus was only destroyed 1 time out of 244 while Boeing was destroyed 12 times out of 1215\n",
    "Boeing_Destroyed = (10/1215) *100\n",
    "Airbus_Destroyed = (1/244) *100\n",
    "\n",
    "print(Boeing_Destroyed)\n"
   ]
  },
  {
   "cell_type": "code",
   "execution_count": 51,
   "metadata": {},
   "outputs": [
    {
     "data": {
      "image/png": "[encoded data removed]",
      "text/plain": [
       "<Figure size 720x720 with 1 Axes>"
      ]
     },
     "metadata": {
      "needs_background": "light"
     },
     "output_type": "display_data"
    }
   ],
   "source": [
    "\n",
    "makes = [\"Airbus\", \"Boeing\"]\n",
    "Commercial_DestroyedDmg_occurance_averages = [Airbus_Destroyed, Boeing_Destroyed]\n",
    "plt.figure(figsize=(10, 10))\n",
    "plt.bar(makes, Commercial_DestroyedDmg_occurance_averages, color=[\"rosybrown\", \"brown\"], edgecolor='black')\n",
    "plt.xlabel(\"Airplane Makes\", fontsize=16)\n",
    "plt.ylabel(\"Percent Destroyed\", fontsize=16)\n",
    "plt.title(\"Percentage of Commercial Flights Resulting in Total Destruction\", fontsize=16)\n",
    "plt.ylim(0, 2)\n",
    "plt.yticks(range(0, 2, 1))\n",
    "plt.tick_params(axis='x', labelsize=15)\n",
    "plt.grid(axis='y', linestyle='--');"
   ]
  },
  {
   "cell_type": "code",
   "execution_count": 52,
   "metadata": {},
   "outputs": [
    {
     "data": {
      "image/png": "[encoded data removed]",
      "text/plain": [
       "<Figure size 720x720 with 1 Axes>"
      ]
     },
     "metadata": {
      "needs_background": "light"
     },
     "output_type": "display_data"
    }
   ],
   "source": [
    "#Since the averages are so small I think our graph should show the number of occurences: Boeing = 12 and Airbus = 1\n",
    "#The exporatory data can be left here with our description\n",
    "#In the explanatory presentation we can explain what the 12 and the 1 mean\n",
    "\n",
    "makes = [\"Airbus\", \"Boeing\"]\n",
    "Commercial_DestroyedDmg_occurance_averages = [1, 10]\n",
    "plt.figure(figsize=(10, 10))\n",
    "plt.bar(makes, Commercial_DestroyedDmg_occurance_averages, color=[\"rosybrown\", \"brown\"], edgecolor='black')\n",
    "plt.xlabel(\"Airplane Makes\", fontsize=14)\n",
    "plt.ylabel(\"Total Destroyed Damage Occurance\", fontsize=14)\n",
    "plt.title(\"Total Destroyed Damage Occurance for Commercial Flights\", fontsize=16)\n",
    "plt.ylim(0, 12)\n",
    "plt.yticks(range(0, 12, 1))\n",
    "plt.grid(axis='y', linestyle='--');"
   ]
  },
  {
   "cell_type": "code",
   "execution_count": 53,
   "metadata": {},
   "outputs": [],
   "source": [
    "df.to_csv(\"data/Aviation_FinalData.csv\", encoding='ISO-8859-1', index=False)"
   ]
  },
  {
   "cell_type": "code",
   "execution_count": null,
   "metadata": {},
   "outputs": [],
   "source": []
  },
  {
   "cell_type": "code",
   "execution_count": null,
   "metadata": {},
   "outputs": [],
   "source": []
  },
  {
   "cell_type": "code",
   "execution_count": null,
   "metadata": {},
   "outputs": [],
   "source": []
  },
  {
   "cell_type": "code",
   "execution_count": null,
   "metadata": {},
   "outputs": [],
   "source": []
  }
 ],
 "metadata": {
  "kernelspec": {
   "display_name": "Python (learn-env)",
   "language": "python",
   "name": "learn-env"
  },
  "language_info": {
   "codemirror_mode": {
    "name": "ipython",
    "version": 3
   },
   "file_extension": ".py",
   "mimetype": "text/x-python",
   "name": "python",
   "nbconvert_exporter": "python",
   "pygments_lexer": "ipython3",
   "version": "3.8.5"
  }
 },
 "nbformat": 4,
 "nbformat_minor": 4
}
